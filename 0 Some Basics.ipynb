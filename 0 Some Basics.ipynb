{
 "cells": [
  {
   "cell_type": "markdown",
   "id": "27101fa5",
   "metadata": {},
   "source": [
    "\n",
    "Division Types"
   ]
  },
  {
   "cell_type": "code",
   "execution_count": 5,
   "id": "23d2d1d4",
   "metadata": {},
   "outputs": [
    {
     "name": "stdout",
     "output_type": "stream",
     "text": [
      "True division: 5/2 =  2.5\n",
      "Floor division: 5//2 =  2\n"
     ]
    }
   ],
   "source": [
    "#True Division: the one you are familiar with\n",
    "print(\"True division: 5/2 = \", 5/2)\n",
    "\n",
    "# Floor division: gives and integer quiotent (drops the fractional part)\n",
    "print(\"Floor division: 5//2 = \", 5//2)"
   ]
  },
  {
   "cell_type": "markdown",
   "id": "12c4c8e5",
   "metadata": {},
   "source": [
    "An interesting use of `round()`"
   ]
  },
  {
   "cell_type": "code",
   "execution_count": 4,
   "id": "9331e027",
   "metadata": {},
   "outputs": [
    {
     "name": "stdout",
     "output_type": "stream",
     "text": [
      "Round to nearest two decimals:  8.77\n",
      "Round to nearest 10s:  10.0\n",
      "Round to nearest 100s:  800.0\n"
     ]
    }
   ],
   "source": [
    "num1 = 8.7653\n",
    "num2 = 822.91236\n",
    "\n",
    "print(\"Round to nearest two decimals: \", round(num1, 2))\n",
    "print(\"Round to nearest 10s: \", round(num1, -1)) #Use negative numbers!\n",
    "print(\"Round to nearest 100s: \", round(num2, -2))"
   ]
  },
  {
   "cell_type": "markdown",
   "id": "6f21a55b",
   "metadata": {},
   "source": [
    "Variable assignment"
   ]
  },
  {
   "cell_type": "code",
   "execution_count": 5,
   "id": "ca8be54c",
   "metadata": {},
   "outputs": [
    {
     "name": "stdout",
     "output_type": "stream",
     "text": [
      "a =  3\n",
      "b =  3\n",
      "Assigning a new value to b,\n",
      "a =  3\n",
      "b =  10\n"
     ]
    }
   ],
   "source": [
    "a = 3\n",
    "b = a\n",
    "\n",
    "print(\"a = \", a)\n",
    "print(\"b = \", b) #used to print a string\n",
    "\n",
    "b = 10 #assigning entirely new thing here\n",
    "\n",
    "print('Assigning a new value to b,')\n",
    "print(\"a = \", a)\n",
    "print(\"b = \", b)"
   ]
  },
  {
   "cell_type": "code",
   "execution_count": 6,
   "id": "9f42096f",
   "metadata": {},
   "outputs": [
    {
     "data": {
      "text/plain": [
       "False"
      ]
     },
     "execution_count": 6,
     "metadata": {},
     "output_type": "execute_result"
    }
   ],
   "source": [
    "#To check whether two objects refer to the same object\n",
    "a is b"
   ]
  },
  {
   "cell_type": "markdown",
   "id": "e516e024",
   "metadata": {},
   "source": [
    "Note: when we do `b = a`, we are not copying the value of `a`, instead now `a` and `b` refer to the same object (until we assigned a new value to b). For example,"
   ]
  },
  {
   "cell_type": "code",
   "execution_count": 8,
   "id": "533c1c7f",
   "metadata": {},
   "outputs": [
    {
     "name": "stdout",
     "output_type": "stream",
     "text": [
      "[1, 2, 3]\n",
      "[1, 2, 3, 4]\n"
     ]
    }
   ],
   "source": [
    "first = [1,2,3]\n",
    "not_a_copy = first\n",
    "print(not_a_copy)\n",
    "\n",
    "not_a_copy.append(4) #append() is a method\n",
    "print(first)"
   ]
  },
  {
   "cell_type": "markdown",
   "id": "1c51af89",
   "metadata": {},
   "source": [
    "The difference here is mutability. As an integer (immutable) was assigned to `a` and `b`, `b` just pointed to a new object. But in the second case, lists are mutable"
   ]
  },
  {
   "cell_type": "markdown",
   "id": "d2370c77",
   "metadata": {},
   "source": [
    "OOP Talk: a function, when attached to an object like this- `object.function()`, is called a method. Not to confuse with attributes- `object.attribute` <br>\n",
    "Notice the parenthesis and lack thereof."
   ]
  },
  {
   "cell_type": "code",
   "execution_count": 9,
   "id": "6375107d",
   "metadata": {},
   "outputs": [
    {
     "data": {
      "text/plain": [
       "True"
      ]
     },
     "execution_count": 9,
     "metadata": {},
     "output_type": "execute_result"
    }
   ],
   "source": [
    "#To check whether two objects refer to the same object\n",
    "first is not_a_copy"
   ]
  },
  {
   "cell_type": "code",
   "execution_count": 10,
   "id": "910e0e33",
   "metadata": {},
   "outputs": [
    {
     "data": {
      "text/plain": [
       "True"
      ]
     },
     "execution_count": 10,
     "metadata": {},
     "output_type": "execute_result"
    }
   ],
   "source": [
    "# a usefule use of is\n",
    "var = None\n",
    "var is None"
   ]
  },
  {
   "cell_type": "markdown",
   "id": "119b8b51",
   "metadata": {},
   "source": [
    "Taking Input from User"
   ]
  },
  {
   "cell_type": "code",
   "execution_count": 1,
   "id": "007b6b46",
   "metadata": {},
   "outputs": [
    {
     "name": "stdout",
     "output_type": "stream",
     "text": [
      "Enter your name: \n",
      "Ratata\n",
      "Ratata\n",
      "Enter your name: Rara\n",
      "Rara\n"
     ]
    }
   ],
   "source": [
    "print(\"Enter your name: \")\n",
    "name = input() \n",
    "print(name)\n",
    "\n",
    "#A shorter way to take input is,\n",
    "name = input(\"Enter your name: \")\n",
    "print(name)"
   ]
  },
  {
   "cell_type": "code",
   "execution_count": 3,
   "id": "2b404aba",
   "metadata": {},
   "outputs": [
    {
     "name": "stdout",
     "output_type": "stream",
     "text": [
      "Enter a number: 3\n",
      "<class 'str'>\n",
      "<class 'int'>\n",
      "<class 'float'>\n",
      "So what happens when you try to cast 4.5 into a int type?\n"
     ]
    }
   ],
   "source": [
    "#input() returns a string, even when you input a number\n",
    "number = input(\"Enter a number: \")\n",
    "print(type(number)) #The str stands for data type string\n",
    "\n",
    "#We can typecast to convert it into integer/float\n",
    "int_number  = int(number)\n",
    "print(type(int_number))\n",
    "\n",
    "float_number = float(number)\n",
    "print(type(float_number))\n",
    "\n",
    "print(\"So what happens when you try to cast 4.5 into a int type?\")"
   ]
  },
  {
   "cell_type": "markdown",
   "id": "d5f27582",
   "metadata": {},
   "source": [
    "Operator Overloading"
   ]
  },
  {
   "cell_type": "code",
   "execution_count": 1,
   "id": "cdaacfeb",
   "metadata": {},
   "outputs": [
    {
     "name": "stdout",
     "output_type": "stream",
     "text": [
      "Rara \n",
      "Rara Rara Rara \n"
     ]
    }
   ],
   "source": [
    "my_name = \"Rara \"\n",
    "print(my_name)\n",
    "my_name_thrice = my_name * 3\n",
    "print(my_name_thrice)"
   ]
  },
  {
   "cell_type": "markdown",
   "id": "bde80f91",
   "metadata": {},
   "source": [
    "Strings"
   ]
  },
  {
   "cell_type": "markdown",
   "id": "b93280f4",
   "metadata": {},
   "source": [
    "Note: For multiline strings with line breaks, you can use either `'''` or `\"\"\"`"
   ]
  },
  {
   "cell_type": "markdown",
   "id": "20fecf94",
   "metadata": {},
   "source": [
    "Strings can be treated like other sequences."
   ]
  },
  {
   "cell_type": "code",
   "execution_count": 12,
   "id": "842804dc",
   "metadata": {},
   "outputs": [
    {
     "data": {
      "text/plain": [
       "'this i'"
      ]
     },
     "execution_count": 12,
     "metadata": {},
     "output_type": "execute_result"
    }
   ],
   "source": [
    "string  ='this is a string'\n",
    "\n",
    "list(string)\n",
    "\n",
    "string[:6] #this is slicicng"
   ]
  },
  {
   "cell_type": "markdown",
   "id": "43776e28",
   "metadata": {},
   "source": [
    "`\\` is an escape character to specify special characters."
   ]
  },
  {
   "cell_type": "code",
   "execution_count": 17,
   "id": "6d628e60",
   "metadata": {},
   "outputs": [
    {
     "name": "stdout",
     "output_type": "stream",
     "text": [
      "34\\6\n",
      "34\\6\n"
     ]
    }
   ],
   "source": [
    "print('34\\\\6')\n",
    "\n",
    "#is the same as\n",
    "\n",
    "print(r'34\\6') #the r stands for raw"
   ]
  },
  {
   "cell_type": "markdown",
   "id": "3bfb1fd4",
   "metadata": {},
   "source": [
    "String Formatting"
   ]
  },
  {
   "cell_type": "code",
   "execution_count": 8,
   "id": "3c32cf1c",
   "metadata": {},
   "outputs": [
    {
     "name": "stdout",
     "output_type": "stream",
     "text": [
      "Hello, Rara!\n",
      "Hello, Rara!\n"
     ]
    }
   ],
   "source": [
    "name = \"Rara\"\n",
    "hello = \"Hello, Rara!\" #rigid\n",
    "\n",
    "formatted_hello = f\"Hello, {name}!\" #more flexible!\n",
    "\n",
    "print(hello)\n",
    "print(formatted_hello)"
   ]
  },
  {
   "cell_type": "code",
   "execution_count": 9,
   "id": "1fbea9d5",
   "metadata": {},
   "outputs": [
    {
     "name": "stdout",
     "output_type": "stream",
     "text": [
      "Hello, Rara!\n",
      "Hello, Baba Yaga!\n"
     ]
    }
   ],
   "source": [
    "#We can format the string with the format() method as well, here's how-\n",
    "hello_again = \"Hello, {}!\" #no f before string here\n",
    "with_method = hello_again.format(name)\n",
    "\n",
    "print(with_method)\n",
    "\n",
    "#There is a nice advantage to using the format method, brace yourself!\n",
    "with_method = hello_again.format(\"Baba Yaga\") \n",
    "#creating a new instance without needing variable assignment\n",
    "\n",
    "print(with_method)"
   ]
  },
  {
   "cell_type": "code",
   "execution_count": 10,
   "id": "cdfd0aed",
   "metadata": {},
   "outputs": [
    {
     "name": "stdout",
     "output_type": "stream",
     "text": [
      "Hello, Jim and Pam!\n"
     ]
    }
   ],
   "source": [
    "#Now let's say hello to more than one person at a time\n",
    "longer_greeting = \"Hello, {} and {}!\"\n",
    "with_method = longer_greeting.format(\"Jim\",\"Pam\")\n",
    "\n",
    "print(with_method)"
   ]
  },
  {
   "cell_type": "code",
   "execution_count": 18,
   "id": "807423e1",
   "metadata": {},
   "outputs": [
    {
     "data": {
      "text/plain": [
       "'4.50 Pesos are worth US$1'"
      ]
     },
     "execution_count": 18,
     "metadata": {},
     "output_type": "execute_result"
    }
   ],
   "source": [
    "#You are not ready for this, though\n",
    "template = '{0:.2f} {1:s} are worth US${2:d}'\n",
    "\n",
    "#0 i.e the first argument is to be formatted as a floating point number with 2 decimal places\n",
    "#1, or the second argument as a string\n",
    "#the third as an exact integer\n",
    "\n",
    "template.format(4.5, 'Pesos', 1)"
   ]
  },
  {
   "cell_type": "markdown",
   "id": "4f6c9b99",
   "metadata": {},
   "source": [
    "#### IPython and some tidbits\n",
    "\n",
    "I encourage you to do a little background study on Python interactive shell, i.e. IPython, for cool shortcuts and tips. A handy tool is tab completion. The `tab` button can be used to auto-complete methods, attributes, and even file paths on your local computer.\n",
    "<br>\n",
    "There is also use of question mark `?` for general info about an object. F.e. object?"
   ]
  },
  {
   "cell_type": "code",
   "execution_count": 12,
   "id": "0366512f",
   "metadata": {},
   "outputs": [],
   "source": [
    "list?"
   ]
  },
  {
   "cell_type": "markdown",
   "id": "7d34b6a8",
   "metadata": {},
   "source": [
    "'??' shows source code."
   ]
  },
  {
   "cell_type": "markdown",
   "id": "9d59fd3b",
   "metadata": {},
   "source": [
    "Getting help: Can't remember what a fucntion does?"
   ]
  },
  {
   "cell_type": "code",
   "execution_count": 6,
   "id": "d2891d74",
   "metadata": {},
   "outputs": [
    {
     "name": "stdout",
     "output_type": "stream",
     "text": [
      "Help on built-in function round in module builtins:\n",
      "\n",
      "round(number, ndigits=None)\n",
      "    Round a number to a given precision in decimal digits.\n",
      "    \n",
      "    The return value is an integer if ndigits is omitted or None.  Otherwise\n",
      "    the return value has the same type as the number.  ndigits may be negative.\n",
      "\n"
     ]
    }
   ],
   "source": [
    "help(round)"
   ]
  },
  {
   "cell_type": "markdown",
   "id": "f9288867",
   "metadata": {},
   "source": [
    "#### The %run command\n",
    "`%run script.py` to run a python script in the IPython shell. Running this command will enable access to all variables and libraries inside the script via the IPython shell. It is equivalent to typing `python script.py` on the command line."
   ]
  },
  {
   "cell_type": "markdown",
   "id": "1f4403fa",
   "metadata": {},
   "source": [
    "Press `ctrl+c` to stop running programs. "
   ]
  },
  {
   "cell_type": "markdown",
   "id": "2404f8ca",
   "metadata": {},
   "source": [
    "file.py is a module and can be imported to another script using `import`. <br><br>\n",
    "f.e. `import some_module`"
   ]
  },
  {
   "cell_type": "code",
   "execution_count": null,
   "id": "e78bf46f",
   "metadata": {},
   "outputs": [],
   "source": []
  },
  {
   "cell_type": "markdown",
   "id": "c241bfb9",
   "metadata": {},
   "source": [
    "#### Magic Commands"
   ]
  },
  {
   "cell_type": "markdown",
   "id": "49871200",
   "metadata": {},
   "source": [
    " Special **IPython** commands prefixed by `%`. "
   ]
  },
  {
   "cell_type": "code",
   "execution_count": 4,
   "id": "ecc10ba8",
   "metadata": {},
   "outputs": [
    {
     "name": "stdout",
     "output_type": "stream",
     "text": [
      "45.3 µs ± 151 ns per loop (mean ± std. dev. of 7 runs, 10000 loops each)\n"
     ]
    }
   ],
   "source": [
    "import numpy as np #The Numpy library will be used to create ndarrays - faster\n",
    "\n",
    "a = np.random.randn(100,100) #a 100x100 ndarray has been created with random initialization\n",
    "\n",
    "%timeit np.dot(a,a) #this will give you the execution time of the dot() function"
   ]
  },
  {
   "cell_type": "markdown",
   "id": "0877c04f",
   "metadata": {},
   "source": [
    "Forgot what a magic command does? Try:"
   ]
  },
  {
   "cell_type": "code",
   "execution_count": 5,
   "id": "aff697ef",
   "metadata": {},
   "outputs": [],
   "source": [
    "%debug?"
   ]
  },
  {
   "cell_type": "markdown",
   "id": "895ac2b8",
   "metadata": {},
   "source": [
    "Some magic functions can be used like Python functions and their outputs can be assigned to a variable."
   ]
  },
  {
   "cell_type": "code",
   "execution_count": null,
   "id": "3286750b",
   "metadata": {},
   "outputs": [],
   "source": [
    "%pwd\n",
    "\n",
    "var_pwd = %pwd\n",
    "var_pwd"
   ]
  },
  {
   "cell_type": "markdown",
   "id": "1f8d4529",
   "metadata": {},
   "source": [
    "`%del variable` will delete a variable and attempt to clear any references to the object. <br>\n",
    "Sounds useful. But here's a popular magic command (I finally know what it does!): `%matplotlib` - configures integration of the matplotlib with IPython i.e. now you can view your plots on Jupyter Notebook cell output! It's super useful. <br>\n",
    "**Important!** For Jupyter Notebook the command is `%matplotlib inline` "
   ]
  },
  {
   "cell_type": "markdown",
   "id": "20fbc64c",
   "metadata": {},
   "source": [
    "#### Ternary expressions\n",
    "if-else blocks expressed in a single line. Do make sure it's not hampering readability!"
   ]
  },
  {
   "cell_type": "code",
   "execution_count": 19,
   "id": "3c6314d4",
   "metadata": {},
   "outputs": [
    {
     "data": {
      "text/plain": [
       "'non-negative'"
      ]
     },
     "execution_count": 19,
     "metadata": {},
     "output_type": "execute_result"
    }
   ],
   "source": [
    "x = 1\n",
    "\n",
    "'negative' if x < 0 else 'non-negative'"
   ]
  },
  {
   "cell_type": "code",
   "execution_count": null,
   "id": "5353fc1c",
   "metadata": {},
   "outputs": [],
   "source": []
  }
 ],
 "metadata": {
  "kernelspec": {
   "display_name": "Python 3.10.7 64-bit",
   "language": "python",
   "name": "python3"
  },
  "language_info": {
   "codemirror_mode": {
    "name": "ipython",
    "version": 3
   },
   "file_extension": ".py",
   "mimetype": "text/x-python",
   "name": "python",
   "nbconvert_exporter": "python",
   "pygments_lexer": "ipython3",
   "version": "3.10.7"
  },
  "vscode": {
   "interpreter": {
    "hash": "df95319d8ce4e1d89f5365ae10992bc1f65da593082b1d264e8f529830ec2f02"
   }
  }
 },
 "nbformat": 4,
 "nbformat_minor": 5
}
