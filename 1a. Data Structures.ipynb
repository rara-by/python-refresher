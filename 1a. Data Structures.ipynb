{
 "cells": [
  {
   "cell_type": "markdown",
   "id": "7fdc1e3e",
   "metadata": {},
   "source": [
    "It might help to remember that Python string type holds Unicode (UTF-8 encoded, commonly used) strings, whereas bytes are raw ASCII bytes (Unicode encoded as bytes)."
   ]
  },
  {
   "cell_type": "code",
   "execution_count": 56,
   "id": "a667d45c",
   "metadata": {},
   "outputs": [
    {
     "name": "stdout",
     "output_type": "stream",
     "text": [
      "<class 'str'>\n",
      "<class 'bytes'>\n"
     ]
    },
    {
     "data": {
      "text/plain": [
       "'foo'"
      ]
     },
     "execution_count": 56,
     "metadata": {},
     "output_type": "execute_result"
    }
   ],
   "source": [
    "# convert a unicode string into its UTF-8 bytes representation\n",
    "str_val = 'foo'\n",
    "print(type(str_val))\n",
    "val_utf8 = str_val.encode('utf-8') #reminder: encode() is a method\n",
    "print(type(val_utf8))\n",
    "\n",
    "# decode it back\n",
    "val_utf8.decode('utf-8') # as we already knew the encoding"
   ]
  },
  {
   "cell_type": "markdown",
   "id": "6071027b",
   "metadata": {},
   "source": [
    "OOP Talk: Everything is an object in Python, numbers, functions, strings, data structures - you name it. This also means that every object has an inherent type (class)."
   ]
  },
  {
   "cell_type": "code",
   "execution_count": 57,
   "id": "37ffa611",
   "metadata": {},
   "outputs": [
    {
     "name": "stdout",
     "output_type": "stream",
     "text": [
      "True\n"
     ]
    },
    {
     "data": {
      "text/plain": [
       "False"
      ]
     },
     "execution_count": 57,
     "metadata": {},
     "output_type": "execute_result"
    }
   ],
   "source": [
    "#To check if an object is a particular type\n",
    "integer = 5\n",
    "print(isinstance(integer, int))\n",
    "\n",
    "#To check if an object is of one of many types\n",
    "integer = 5\n",
    "isinstance(integer, (float, str))"
   ]
  },
  {
   "cell_type": "code",
   "execution_count": 58,
   "id": "94a47ddf",
   "metadata": {},
   "outputs": [
    {
     "data": {
      "text/plain": [
       "0.00093"
      ]
     },
     "execution_count": 58,
     "metadata": {},
     "output_type": "execute_result"
    }
   ],
   "source": [
    "# floats can be written in scientific notation\n",
    "float_val = 9.3e-4\n",
    "float_val"
   ]
  },
  {
   "cell_type": "markdown",
   "id": "7ae9b216",
   "metadata": {},
   "source": [
    "We start with sequences. <br>\n",
    "Note: Lists, dicts, Numpy arrays are mutable (values can be modified). But strings and tuples are immutable."
   ]
  },
  {
   "cell_type": "markdown",
   "id": "a44f42a3",
   "metadata": {},
   "source": [
    "### List"
   ]
  },
  {
   "cell_type": "markdown",
   "id": "2cbda9ed",
   "metadata": {},
   "source": [
    "- [ ] to define a list\n",
    "- the values within a list are modifiable i.e. you can change them\n",
    "- the order of elements is maintained "
   ]
  },
  {
   "cell_type": "code",
   "execution_count": 75,
   "id": "a086a049",
   "metadata": {},
   "outputs": [
    {
     "data": {
      "text/plain": [
       "['a', 'b', 'c']"
      ]
     },
     "execution_count": 75,
     "metadata": {},
     "output_type": "execute_result"
    }
   ],
   "source": [
    "letters_list = ['a','b','c']\n",
    "letters_list"
   ]
  },
  {
   "cell_type": "markdown",
   "id": "bcf8e0c3",
   "metadata": {},
   "source": [
    "Subscript notation <br><br>\n",
    "letters_list[index] is used to access the value at index number (say index = 0 for the first element which is letters_list[0] = a)"
   ]
  },
  {
   "cell_type": "markdown",
   "id": "831beaa7",
   "metadata": {},
   "source": [
    "**Slicing** is a frequently used feature. The notation is `list[start index: stop index: step]` i.e. slice starting at the _start index_ and stop at the one before the _stop index_. "
   ]
  },
  {
   "cell_type": "code",
   "execution_count": 7,
   "id": "8085fa03",
   "metadata": {},
   "outputs": [
    {
     "name": "stdout",
     "output_type": "stream",
     "text": [
      "[1, 2, 3, 4]\n",
      "Sliced list: [3]\n",
      "Same list with an assigned slice: [1, 100, 200, 3, 4]\n",
      "And this is negative slicing that start at the end: [3, 4]\n",
      "Reversed list [4, 3, 200, 100, 1]\n",
      "[4, 3, 200, 100, 1]\n"
     ]
    }
   ],
   "source": [
    "init_list = [1, 2, 3, 4]\n",
    "print(init_list)\n",
    "\n",
    "sliced_list = init_list[2:3] \n",
    "# the output does NOT include the element at the 3rd position\n",
    "print(\"Sliced list:\",  sliced_list)\n",
    "\n",
    "init_list[1:2] = [100, 200]\n",
    "print(\"Same list with an assigned slice:\", init_list)\n",
    "\n",
    "print(\"And this is negative slicing that start at the end:\", init_list[-2:])\n",
    "\n",
    "# A common use of slicing is reversing a list using a negative step\n",
    "print(\"Reversed list\", init_list[::-1])\n",
    "\n",
    "# alternatively you can use reversed()\n",
    "print(list(reversed(init_list)))"
   ]
  },
  {
   "cell_type": "markdown",
   "id": "982db1cb",
   "metadata": {},
   "source": [
    "#### append() and insert()\n",
    "\n",
    "_method_\n",
    "<br>\n",
    "append() adds a new element at the **end** of the list but with insert() you can specify its location. insert() is however, computationally expensive."
   ]
  },
  {
   "cell_type": "code",
   "execution_count": 76,
   "id": "6730f115",
   "metadata": {},
   "outputs": [
    {
     "name": "stdout",
     "output_type": "stream",
     "text": [
      "['a', 'b', 'c', 'd']\n",
      "['a', 'foo', 'b', 'c', 'd']\n"
     ]
    }
   ],
   "source": [
    "letters_list.append('d')\n",
    "print(letters_list)\n",
    "\n",
    "letters_list.insert(1, 'foo')\n",
    "print(letters_list)"
   ]
  },
  {
   "cell_type": "markdown",
   "id": "a81da62e",
   "metadata": {},
   "source": [
    "#### remove() and pop()\n",
    "*method*\n",
    "<br>remove() removes an element (big brain time), with pop you can remove and return an element given the index."
   ]
  },
  {
   "cell_type": "code",
   "execution_count": 77,
   "id": "1e19ecf5",
   "metadata": {},
   "outputs": [
    {
     "name": "stdout",
     "output_type": "stream",
     "text": [
      "['a', 'foo', 'b', 'd']\n",
      "d\n",
      "['a', 'foo', 'b']\n"
     ]
    }
   ],
   "source": [
    "letters_list.remove('c')\n",
    "print(letters_list)\n",
    "\n",
    "print(letters_list.pop(-1))\n",
    "print(letters_list)"
   ]
  },
  {
   "cell_type": "markdown",
   "id": "088c7815",
   "metadata": {},
   "source": [
    "#### extend()\n",
    "_method_<br>\n",
    "Append multiple elements to an existing list"
   ]
  },
  {
   "cell_type": "code",
   "execution_count": 78,
   "id": "46a827c2",
   "metadata": {},
   "outputs": [
    {
     "name": "stdout",
     "output_type": "stream",
     "text": [
      "['a', 'foo', 'b', 4, 44, 444]\n"
     ]
    }
   ],
   "source": [
    "new_list = [4, 44, 444]\n",
    "letters_list.extend(new_list)\n",
    "print(letters_list)"
   ]
  },
  {
   "cell_type": "markdown",
   "id": "cee7bc66",
   "metadata": {},
   "source": [
    "#### list()\n",
    "_function_<br>\n",
    "`list()` always creates a new list i.e. a copy. "
   ]
  },
  {
   "cell_type": "code",
   "execution_count": 62,
   "id": "2c252f58",
   "metadata": {},
   "outputs": [
    {
     "data": {
      "text/plain": [
       "[0, 1, 2, 3, 4, 5]"
      ]
     },
     "execution_count": 62,
     "metadata": {},
     "output_type": "execute_result"
    }
   ],
   "source": [
    "list(range(6))"
   ]
  },
  {
   "cell_type": "code",
   "execution_count": 21,
   "id": "18855af8",
   "metadata": {},
   "outputs": [
    {
     "name": "stdout",
     "output_type": "stream",
     "text": [
      "1\n",
      "2\n",
      "3\n",
      "4\n"
     ]
    }
   ],
   "source": [
    "seq = [1, 2, 3, 4]\n",
    "for i in range(len(seq)):\n",
    "    val = seq[i]\n",
    "    print(val)"
   ]
  },
  {
   "cell_type": "markdown",
   "id": "4c4f7957",
   "metadata": {},
   "source": [
    "_Checking whether a list contains a value is a lot slower than doing so with dicts and\n",
    "sets (to be introduced shortly), as Python makes a linear scan across the values of the\n",
    "list, whereas it can check the others (based on hash tables) in constant time._ - Wes McKinney, Python for Data Analysis"
   ]
  },
  {
   "cell_type": "markdown",
   "id": "1af85095",
   "metadata": {},
   "source": [
    "#### enumerate()\n",
    "_function_<br>\n",
    "A widely used function which returns a tuple of (index, value) for when you want to iterate over a sequence. "
   ]
  },
  {
   "cell_type": "code",
   "execution_count": 9,
   "id": "2b82abe6",
   "metadata": {},
   "outputs": [
    {
     "name": "stdout",
     "output_type": "stream",
     "text": [
      "index 0 value a\n",
      "index 1 value b\n"
     ]
    }
   ],
   "source": [
    "some_list = ['a', 'b']\n",
    "\n",
    "for i, v in enumerate(some_list):\n",
    "    print(\"index {0} value {1}\".format(i, v))"
   ]
  },
  {
   "cell_type": "markdown",
   "id": "8d8266f7",
   "metadata": {},
   "source": [
    "#### zip()"
   ]
  },
  {
   "cell_type": "markdown",
   "id": "101c640a",
   "metadata": {},
   "source": [
    "_function_<br>\n",
    "Takes elements from different sequences and creates a list of tuples. Widely used with enumerate for iterating over multiple sequences as follows"
   ]
  },
  {
   "cell_type": "code",
   "execution_count": 1,
   "id": "18205cdd",
   "metadata": {},
   "outputs": [
    {
     "name": "stdout",
     "output_type": "stream",
     "text": [
      "Index 0: a is from seq1 and A is from seq2\n",
      "Index 1: b is from seq1 and B is from seq2\n",
      "Index 2: c is from seq1 and C is from seq2\n"
     ]
    }
   ],
   "source": [
    "seq1 = ['a', 'b', 'c']\n",
    "seq2 = ['A', 'B', 'C']\n",
    "\n",
    "for i, (element1, element2) in enumerate(zip(seq1, seq2)):\n",
    "    print('Index {0}: {1} is from seq1 and {2} is from seq2'.format(i, element1, element2))"
   ]
  },
  {
   "cell_type": "code",
   "execution_count": 4,
   "id": "3a34dca0",
   "metadata": {},
   "outputs": [
    {
     "name": "stdout",
     "output_type": "stream",
     "text": [
      "First names:  ('Bukayo', 'Emile', 'Eddie')\n",
      "Last names:  ('Saka', 'Smith Rowe', 'Nketiah')\n"
     ]
    }
   ],
   "source": [
    "# Another use of zip is to unzip pairs into tuples\n",
    "gunners = [('Bukayo', 'Saka'), ('Emile', 'Smith Rowe'), ('Eddie', 'Nketiah')]\n",
    "first, last = zip(*gunners)\n",
    "\n",
    "print(\"First names: \", first)\n",
    "print(\"Last names: \", last)"
   ]
  },
  {
   "cell_type": "markdown",
   "id": "8ec83e1c",
   "metadata": {},
   "source": [
    "#### *List Comprehension*"
   ]
  },
  {
   "cell_type": "code",
   "execution_count": 1,
   "id": "48f67d31",
   "metadata": {},
   "outputs": [
    {
     "data": {
      "text/plain": [
       "[0, 3, 6, 9]"
      ]
     },
     "execution_count": 1,
     "metadata": {},
     "output_type": "execute_result"
    }
   ],
   "source": [
    "# instead of a code block, you do the iteration in one line of code\n",
    "# like this\n",
    "\n",
    "list_comp = [num for num in range(10) if num % 3 == 0]\n",
    "list_comp # it's clean, compact and often faster\n",
    "\n",
    "# set and dict comprehensions are similar"
   ]
  },
  {
   "cell_type": "code",
   "execution_count": 5,
   "id": "9a724f29",
   "metadata": {},
   "outputs": [
    {
     "data": {
      "text/plain": [
       "['Aa', 'Ab', 'Ac', 'Ad', 'Ae', 'Ba', 'Bb']"
      ]
     },
     "execution_count": 5,
     "metadata": {},
     "output_type": "execute_result"
    }
   ],
   "source": [
    "# let's try a nested for loop\n",
    "\n",
    "capital_letters = 'ABCDE'\n",
    "small_letters = 'abcde'\n",
    "\n",
    "combinations = [caps + smalls for caps in capital_letters for smalls in small_letters]\n",
    "combinations[:7]\n"
   ]
  },
  {
   "cell_type": "markdown",
   "id": "cbc5b282",
   "metadata": {},
   "source": [
    "### Tuple"
   ]
  },
  {
   "cell_type": "markdown",
   "id": "68315b07",
   "metadata": {},
   "source": [
    "- ( ) are used for tuples\n",
    "- the values within a list are immutable i.e. you can't change them afterwards. Also means they're fixed-length\n",
    "- the order is maintained (a is the first value, b is the second...)\n",
    "- subscript notation applicable\n",
    "- widely used in returning multiple values from a function"
   ]
  },
  {
   "cell_type": "code",
   "execution_count": 25,
   "id": "4fef9cc4",
   "metadata": {},
   "outputs": [
    {
     "name": "stdout",
     "output_type": "stream",
     "text": [
      "This is a tuple: ('a', 'b', 'c')\n",
      "This is a nested tuple: ((1, 2), ('a', 'b'))\n",
      "This is a string converted tuple: ('f', 'o', 'o')\n",
      "Though immutable, you can access elements of a tuple:  b\n",
      "This is a concatenated tuple:  ('a', 'b', 'c', 'f', 'o', 'o')\n",
      "So is this:  ('f', 'o', 'o', 'f', 'o', 'o', 'f', 'o', 'o')\n"
     ]
    }
   ],
   "source": [
    "letters_tuple = ('a','b','c')\n",
    "print(\"This is a tuple:\", letters_tuple)\n",
    "\n",
    "nested_tuple = (1,2),('a','b')\n",
    "print(\"This is a nested tuple:\", nested_tuple)\n",
    "\n",
    "string_tuple = tuple(\"foo\") # type casting\n",
    "print(\"This is a string converted tuple:\", string_tuple)\n",
    "\n",
    "print(\"Though immutable, you can access elements of a tuple: \", letters_tuple[1])\n",
    "print(\"This is a concatenated tuple: \", letters_tuple + string_tuple)\n",
    "print(\"So is this: \", string_tuple * 3)"
   ]
  },
  {
   "cell_type": "code",
   "execution_count": 37,
   "id": "d37a8731",
   "metadata": {},
   "outputs": [
    {
     "name": "stdout",
     "output_type": "stream",
     "text": [
      "Gabi got 11!\n",
      "White grabbed 4 from Elneny\n"
     ]
    }
   ],
   "source": [
    "# unpacking a tuple comes in handy\n",
    "shirt_numbers = (7, 8, 11, 30, 99)\n",
    "Saka, Ode, Gabi, *_ = shirt_numbers # _ or *_ typically used for unwanted values\n",
    "print(\"Gabi got {}!\".format(Gabi))\n",
    "\n",
    "# this makes swapping variable values easy\n",
    "White = 22\n",
    "Elneny = 4\n",
    "Elneny, White = White, Elneny\n",
    "print(\"White grabbed {} from Elneny\".format(White))"
   ]
  },
  {
   "cell_type": "markdown",
   "id": "82ae38ac",
   "metadata": {},
   "source": [
    "#### count()\n",
    "_method_\n",
    "<br>counts the frequency of a value in a tuple"
   ]
  },
  {
   "cell_type": "code",
   "execution_count": 40,
   "id": "f5ae202d",
   "metadata": {},
   "outputs": [
    {
     "data": {
      "text/plain": [
       "1"
      ]
     },
     "execution_count": 40,
     "metadata": {},
     "output_type": "execute_result"
    }
   ],
   "source": [
    "shirt_numbers.count(7)"
   ]
  },
  {
   "cell_type": "markdown",
   "id": "db133f37",
   "metadata": {},
   "source": [
    "### Dict"
   ]
  },
  {
   "cell_type": "markdown",
   "id": "6d8a6e2d",
   "metadata": {},
   "source": [
    "- { key: value }\n",
    "- key can be scalar types or tuples - immutable, a.k.a hashable objects\n",
    "- value can be any Python object"
   ]
  },
  {
   "cell_type": "code",
   "execution_count": 16,
   "id": "a87a1fb3",
   "metadata": {},
   "outputs": [
    {
     "name": "stdout",
     "output_type": "stream",
     "text": [
      "Keys of the dict:  ['e']\n",
      "Values of the dict:  ['y']\n",
      "{'e': 'y', 'f': 'z'}\n"
     ]
    },
    {
     "data": {
      "text/plain": [
       "False"
      ]
     },
     "execution_count": 16,
     "metadata": {},
     "output_type": "execute_result"
    }
   ],
   "source": [
    "e = {'e': 'y'}\n",
    "print(\"Keys of the dict: \", list(e.keys()))\n",
    "print(\"Values of the dict: \", list(e.values()))\n",
    "\n",
    "f = {'f': 'z'}\n",
    "\n",
    "# now let's merge them into one dict\n",
    "e.update(f)\n",
    "print(e)\n",
    "\n",
    "'y' in e #because in is only used to check whether a key is present in a dict"
   ]
  },
  {
   "cell_type": "markdown",
   "id": "1743e8da",
   "metadata": {},
   "source": [
    "--> method setdefault() and defaultdict() class from collections library (add later)"
   ]
  },
  {
   "cell_type": "code",
   "execution_count": 4,
   "id": "b67f798a",
   "metadata": {},
   "outputs": [
    {
     "data": {
      "text/plain": [
       "{'a': 'Arsenal', 'b': 'Bournemouth', 'm': 'mouth'}"
      ]
     },
     "execution_count": 4,
     "metadata": {},
     "output_type": "execute_result"
    }
   ],
   "source": []
  },
  {
   "cell_type": "markdown",
   "id": "ef92df66",
   "metadata": {},
   "source": [
    "### Set"
   ]
  },
  {
   "cell_type": "markdown",
   "id": "61c77bae",
   "metadata": {},
   "source": [
    "- { }, but to create an empty set `set()`\n",
    "- the values within a list are modifiable i.e. you can change themthe values within a list are modifiable i.e. you can change them\n",
    "- no order is maintained so subscript notation does not work\n",
    "- you can perform set operations like union (`set_a.union(set_b) or set_a | set_b`) and intersection (`set_a.intersection(set_b) or set_a & set_b`) on sets"
   ]
  },
  {
   "cell_type": "code",
   "execution_count": 5,
   "id": "080e54b6",
   "metadata": {},
   "outputs": [
    {
     "data": {
      "text/plain": [
       "{'a', 'b', 'c'}"
      ]
     },
     "execution_count": 5,
     "metadata": {},
     "output_type": "execute_result"
    }
   ],
   "source": [
    "letters_set = {'a','b','c'}\n",
    "letters_set"
   ]
  },
  {
   "cell_type": "markdown",
   "id": "23b0066b",
   "metadata": {},
   "source": [
    "#### add()\n",
    "_method_\n",
    "<br> Adds an element to a set. `append()` doesn't work on sets, because it has no order."
   ]
  },
  {
   "cell_type": "code",
   "execution_count": 18,
   "id": "92efee25",
   "metadata": {},
   "outputs": [
    {
     "data": {
      "text/plain": [
       "{'a', 'b', 'c', 'd'}"
      ]
     },
     "execution_count": 18,
     "metadata": {},
     "output_type": "execute_result"
    }
   ],
   "source": [
    "letters_set.add('d')\n",
    "letters_set\n",
    "\n",
    "#if we add the same thing twice it will be added once\n",
    "letters_set.add('d')\n",
    "letters_set"
   ]
  },
  {
   "cell_type": "markdown",
   "id": "5c6e33ca",
   "metadata": {},
   "source": [
    "### Iterator"
   ]
  },
  {
   "cell_type": "code",
   "execution_count": 13,
   "id": "e31bb950",
   "metadata": {},
   "outputs": [
    {
     "name": "stdout",
     "output_type": "stream",
     "text": [
      "range(0, 6)\n",
      "[0, 1, 2, 3, 4, 5]\n",
      "[8, 7, 6, 5, 4]\n",
      "Nyah  []\n"
     ]
    }
   ],
   "source": [
    "# The range function returns an iterator of evenly spaced integers\n",
    "range_here = range(6)\n",
    "print(range_here)\n",
    "\n",
    "range_to_list = list(range_here)\n",
    "print(range_to_list)\n",
    "\n",
    "range_negative_step = range(8, 3, -1)\n",
    "print(list(range_negative_step))\n",
    "\n",
    "# does it work without the negative step?\n",
    "does_it_work = range(9, 2)\n",
    "print(\"Nyah \", list(does_it_work))"
   ]
  },
  {
   "cell_type": "markdown",
   "id": "a09d90c2",
   "metadata": {},
   "source": [
    "This iterator created using `range()` is used to iterate through a sequence by **index**. "
   ]
  },
  {
   "cell_type": "code",
   "execution_count": 16,
   "id": "6748d8d0",
   "metadata": {},
   "outputs": [
    {
     "name": "stdout",
     "output_type": "stream",
     "text": [
      "Over a list\n",
      "0 1\n",
      "1 2\n",
      "2 3\n",
      "Over an iterator\n",
      "0\n",
      "1\n",
      "2\n"
     ]
    }
   ],
   "source": [
    "# Two common use cases to iterate over range-produced sequence\n",
    "\n",
    "print(\"Over a list\")\n",
    "list_iter = [1, 2, 3]\n",
    "for i in range(len(list_iter)):\n",
    "    print(i, list_iter[i])\n",
    "\n",
    "print(\"Over an iterator\")\n",
    "for i in range(3):\n",
    "    print(i)"
   ]
  },
  {
   "cell_type": "markdown",
   "id": "5b9a83cc",
   "metadata": {},
   "source": [
    "### Duck Typing <br> \n",
    "For when you care less about the object type and more about whether it has a certain method. Because _if it walks like a duck and quacks like a duck, then it's a duck_."
   ]
  },
  {
   "cell_type": "code",
   "execution_count": 1,
   "id": "9b515e3f",
   "metadata": {},
   "outputs": [
    {
     "name": "stdout",
     "output_type": "stream",
     "text": [
      "True\n"
     ]
    }
   ],
   "source": [
    "#An useful function, that comes is handy in the following setting\n",
    "\n",
    "def isiterable(obj): \n",
    "    try:\n",
    "        iter(obj)\n",
    "        return True\n",
    "    except TypeError:\n",
    "        return False\n",
    "\n",
    "print(isiterable('foo'))"
   ]
  },
  {
   "cell_type": "markdown",
   "id": "f3ff7ac4",
   "metadata": {},
   "source": [
    "Say you have a function that can take any type of sequence as input, you can use this function to maintain consistency for further down the code <br>\n",
    "f.e <br>\n",
    "`if not instance(x, list) and isiterable(x):`\n",
    "   <br> &nbsp;&nbsp;&nbsp;&nbsp; `x = list(x)`"
   ]
  }
 ],
 "metadata": {
  "kernelspec": {
   "display_name": "Python 3.10.4 ('ml39')",
   "language": "python",
   "name": "python3"
  },
  "language_info": {
   "codemirror_mode": {
    "name": "ipython",
    "version": 3
   },
   "file_extension": ".py",
   "mimetype": "text/x-python",
   "name": "python",
   "nbconvert_exporter": "python",
   "pygments_lexer": "ipython3",
   "version": "3.9.12"
  },
  "vscode": {
   "interpreter": {
    "hash": "9a9823123dce4654294f13888679f8f2891e3316c150b89d10b977c182808e4e"
   }
  }
 },
 "nbformat": 4,
 "nbformat_minor": 5
}
