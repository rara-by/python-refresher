{
 "cells": [
  {
   "cell_type": "markdown",
   "metadata": {},
   "source": [
    "### Stack\n",
    "\n",
    "LIFO data structure - last in, first out <br>\n",
    "i.e. the item added last (to the top) is the first one to be retrieved/accessed.<br>\n",
    "Some stack operataions are: push, pop, peek"
   ]
  },
  {
   "cell_type": "code",
   "execution_count": 2,
   "metadata": {},
   "outputs": [],
   "source": [
    "'''\n",
    "Create a stack class\n",
    "\n",
    "A list could be used (is used in practical uses), but that includes Python list methods that \n",
    "do not belong to a stack data structure like insert() or remove().\n",
    "These methods could potentially change the order of a stack, so it's no longer a 'stack'\n",
    "'''\n",
    "\n",
    "class Stack:\n",
    "    def __init__(self):\n",
    "       self.items = []  # items of the stack (a list!)\n",
    "\n",
    "    # check if the stack is empty\n",
    "    def is_empty(self):\n",
    "        return not self.items\n",
    "    \n",
    "    # add an item to the stack\n",
    "    def push(self, item):\n",
    "        self.items.append(item)\n",
    "    \n",
    "    # pop an item (the topmost)\n",
    "    def pop(self):\n",
    "        return self.items.pop()\n",
    "    \n",
    "    # see what the topmost item is without removing it\n",
    "    def peek(self):\n",
    "        return self.items[-1]\n",
    "    \n",
    "    # size of the stack\n",
    "    def size(self):\n",
    "        return len(self.items)\n",
    "    \n",
    "    def __str__(self):\n",
    "        return str(self.items)\n",
    "    \n",
    "# if modularized\n",
    "# if __name__ == \"__main__\":\n",
    "    # my_stack = Stack()\n",
    "    # print(my_stack) # calls __str__()\n",
    "    \n"
   ]
  },
  {
   "cell_type": "code",
   "execution_count": 3,
   "metadata": {},
   "outputs": [
    {
     "name": "stdout",
     "output_type": "stream",
     "text": [
      "[]\n",
      "True\n"
     ]
    }
   ],
   "source": [
    "my_stack = Stack()\n",
    "print(my_stack) # calls __str__()\n",
    "print(my_stack.is_empty())"
   ]
  },
  {
   "cell_type": "code",
   "execution_count": 4,
   "metadata": {},
   "outputs": [
    {
     "name": "stdout",
     "output_type": "stream",
     "text": [
      "[8]\n"
     ]
    }
   ],
   "source": [
    "my_stack.push(8)\n",
    "print(my_stack)"
   ]
  },
  {
   "cell_type": "code",
   "execution_count": 5,
   "metadata": {},
   "outputs": [
    {
     "name": "stdout",
     "output_type": "stream",
     "text": [
      "[8, 9, 10]\n"
     ]
    }
   ],
   "source": [
    "my_stack.push(9)\n",
    "my_stack.push(10)\n",
    "print(my_stack)"
   ]
  },
  {
   "cell_type": "code",
   "execution_count": 6,
   "metadata": {},
   "outputs": [
    {
     "name": "stdout",
     "output_type": "stream",
     "text": [
      "10\n",
      "[8, 9]\n"
     ]
    }
   ],
   "source": [
    "print(my_stack.pop()) # returns the value\n",
    "print(my_stack)"
   ]
  },
  {
   "cell_type": "code",
   "execution_count": 7,
   "metadata": {},
   "outputs": [
    {
     "name": "stdout",
     "output_type": "stream",
     "text": [
      "9\n",
      "Size  2\n"
     ]
    }
   ],
   "source": [
    "print(my_stack.peek())\n",
    "print(\"Size \", my_stack.size())"
   ]
  },
  {
   "cell_type": "markdown",
   "metadata": {},
   "source": [
    "Reverse a string using stack"
   ]
  },
  {
   "cell_type": "code",
   "execution_count": 11,
   "metadata": {},
   "outputs": [
    {
     "name": "stdout",
     "output_type": "stream",
     "text": [
      "CF lanesrA\n",
      "Arsenal FC\n"
     ]
    }
   ],
   "source": [
    "my_string = \"CF lanesrA\"\n",
    "reversed_string = \"\"\n",
    "new_stack = Stack() # this is a new stack object\n",
    "\n",
    "for item in my_string:\n",
    "    new_stack.push(item)\n",
    "\n",
    "while not new_stack.is_empty():\n",
    "    reversed_string += new_stack.pop()\n",
    "\n",
    "print(my_string + '\\n' + reversed_string)"
   ]
  },
  {
   "cell_type": "markdown",
   "metadata": {},
   "source": [
    "### 2D Lists and Graphs"
   ]
  },
  {
   "cell_type": "code",
   "execution_count": 1,
   "metadata": {},
   "outputs": [
    {
     "name": "stdout",
     "output_type": "stream",
     "text": [
      "['*', '*', '*', '*', '*', '*', '*', '*', '*', '*']\n",
      "['*', ' ', ' ', ' ', ' ', ' ', ' ', ' ', ' ', '*']\n",
      "['*', ' ', '*', ' ', '*', '*', '*', '*', '*', '*']\n",
      "['*', ' ', '*', ' ', ' ', ' ', ' ', ' ', ' ', '*']\n",
      "['*', ' ', '*', '*', ' ', '*', ' ', '*', '*', '*']\n",
      "['*', ' ', '*', ' ', ' ', '*', ' ', '*', ' ', '*']\n",
      "['*', ' ', '*', ' ', ' ', ' ', ' ', ' ', ' ', '*']\n",
      "['*', ' ', '*', '*', '*', ' ', '*', '*', '*', '*']\n",
      "['*', ' ', '*', ' ', ' ', ' ', ' ', ' ', ' ', '*']\n",
      "['*', '*', '*', '*', '*', '*', '*', '*', '*', '*']\n"
     ]
    }
   ],
   "source": [
    "# considering an undirected and unweighted graph\n",
    "# coordinates like i == -y and j == x\n",
    "# let's create a maze in a 2d list\n",
    "\n",
    "def read_maze(file_name):\n",
    "    \"\"\"\n",
    "    Read a maze stored in a text file and returns a 2d list containing the maze representation.\n",
    "    Based off the read_maze() function from the Python Data Structures and Algorthims course.\n",
    "    \"\"\"\n",
    "    try:\n",
    "        with open(file_name) as f:\n",
    "            maze = [[char for char in line.strip(\"\\n\")] for line in f]\n",
    "            num_cols_top_row = len(maze[0])\n",
    "\n",
    "            for row in maze:\n",
    "                if len(row) != num_cols_top_row:\n",
    "                    print(\"The maze is not rectangular\")\n",
    "                    raise SystemExit\n",
    "                \n",
    "            return maze\n",
    "        \n",
    "    except OSError:\n",
    "        print(\"There is a problem with the file you have selected.\")\n",
    "        raise SystemExit\n",
    "    \n",
    "maze = read_maze(\"modest_maze.txt\")\n",
    "\n",
    "for row in maze:\n",
    "    print(row)"
   ]
  },
  {
   "cell_type": "markdown",
   "metadata": {},
   "source": [
    "the stars are obstacles"
   ]
  },
  {
   "cell_type": "code",
   "execution_count": null,
   "metadata": {},
   "outputs": [],
   "source": [
    "'''\n",
    "maze = [['*', '*', '*', '*', '*', '*', '*', '*', '*', '*'],\n",
    "['*', ' ', ' ', ' ', ' ', ' ', ' ', ' ', ' ', '*'],\n",
    "['*', ' ', '*', ' ', '*', '*', '*', '*', '*', '*'],\n",
    "['*', ' ', '*', ' ', ' ', ' ', ' ', ' ', ' ', '*'],\n",
    "['*', ' ', '*', '*', ' ', '*', ' ', '*', '*', '*'],\n",
    "['*', ' ', '*', ' ', ' ', '*', ' ', '*', ' ', '*'],\n",
    "['*', ' ', '*', ' ', ' ', ' ', ' ', ' ', ' ', '*'],\n",
    "['*', ' ', '*', '*', '*', ' ', '*', '*', '*', '*'],\n",
    "['*', ' ', '*', ' ', ' ', ' ', ' ', ' ', ' ', '*'],\n",
    "['*', '*', '*', '*', '*', '*', '*', '*', '*', '*']]\n",
    "\n",
    "'''"
   ]
  },
  {
   "cell_type": "markdown",
   "metadata": {},
   "source": [
    "### Queue\n",
    "\n",
    "***FIFO.*** Lists are inefficient for queues because the start position is dequeued first. \n",
    "A \"deque\" data structure is used instead. It stands for Double Ended Queue and it's optimized for insertions and deletions\n",
    "from either end. It's like a list, but optimized.\n",
    "\n",
    "**Use:** Asynchronous data transfer between two processes, CPU scheduling,\n",
    "shared resources, IO buffers"
   ]
  },
  {
   "cell_type": "code",
   "execution_count": 1,
   "metadata": {},
   "outputs": [],
   "source": [
    "from collections import deque\n",
    "\n",
    "class Queue:\n",
    "    def __init__(self) :\n",
    "        self.items = deque()\n",
    "\n",
    "    def is_empty(self):\n",
    "        return not self.items\n",
    "    \n",
    "    def enqueue(self, item):\n",
    "        self.items.append(item)\n",
    "\n",
    "    def dequeue(self):\n",
    "        return self.items.popleft() # faster than pop, in the deque DS\n",
    "    \n",
    "    def size(self):\n",
    "        return len(self.items)\n",
    "    \n",
    "    def peek(self):\n",
    "        return self.items[0] #  because FIFO\n",
    "    \n",
    "    def __str__(self):\n",
    "        return str(self.items)\n",
    "    "
   ]
  },
  {
   "cell_type": "code",
   "execution_count": 7,
   "metadata": {},
   "outputs": [
    {
     "name": "stdout",
     "output_type": "stream",
     "text": [
      "deque([])\n",
      "deque([0])\n",
      "False\n",
      "0\n",
      "0\n",
      "10\n"
     ]
    }
   ],
   "source": [
    "if __name__ == \"__main__\":\n",
    "    q = Queue()\n",
    "    print(q)\n",
    "\n",
    "    q.enqueue(0)\n",
    "    print(q)\n",
    "    print(q.is_empty())\n",
    "    print(q.dequeue()) # can print because of the return\n",
    "    print(q.size())\n",
    "\n",
    "    q.enqueue(10)\n",
    "    q.enqueue(2)\n",
    "    print(q.peek())"
   ]
  },
  {
   "cell_type": "code",
   "execution_count": null,
   "metadata": {},
   "outputs": [],
   "source": []
  }
 ],
 "metadata": {
  "kernelspec": {
   "display_name": "ml39",
   "language": "python",
   "name": "python3"
  },
  "language_info": {
   "codemirror_mode": {
    "name": "ipython",
    "version": 3
   },
   "file_extension": ".py",
   "mimetype": "text/x-python",
   "name": "python",
   "nbconvert_exporter": "python",
   "pygments_lexer": "ipython3",
   "version": "3.10.13"
  }
 },
 "nbformat": 4,
 "nbformat_minor": 2
}
