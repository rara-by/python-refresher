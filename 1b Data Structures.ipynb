{
 "cells": [
  {
   "cell_type": "markdown",
   "metadata": {},
   "source": [
    "### Stack\n",
    "\n",
    "LIFO data structure - last in, first out <br>\n",
    "i.e. the item added last (to the top) is the first one to be retrieved/accessed.<br>\n",
    "Some stack operataions are: push, pop, peek"
   ]
  },
  {
   "cell_type": "code",
   "execution_count": 3,
   "metadata": {},
   "outputs": [
    {
     "name": "stdout",
     "output_type": "stream",
     "text": [
      "[]\n"
     ]
    }
   ],
   "source": [
    "'''\n",
    "Create a stack class\n",
    "\n",
    "A list could be used (is used in practical uses), but that includes Python list methods that \n",
    "do not belong to a stack data structure like insert() or remove().\n",
    "These methods could potentially change the order of a stack, so it's no longer a 'stack'\n",
    "'''\n",
    "\n",
    "class Stack:\n",
    "    def __init__(self):\n",
    "       self.items = []  # items of the stack (a list!)\n",
    "\n",
    "    # check if the stack is empty\n",
    "    def is_empty(self):\n",
    "        return not self.items\n",
    "    \n",
    "    # add an item to the stack\n",
    "    def push(self, item):\n",
    "        self.items.append(item)\n",
    "    \n",
    "    # pop an item (the topmost)\n",
    "    def pop(self):\n",
    "        return self.items.pop()\n",
    "    \n",
    "    # see what the topmost item is without removing it\n",
    "    def peek(self):\n",
    "        return self.items[-1]\n",
    "    \n",
    "    # size of the stack\n",
    "    def size(self):\n",
    "        return len(self.items)\n",
    "    \n",
    "    def __str__(self):\n",
    "        return str(self.items)\n",
    "    \n",
    "# if modularized\n",
    "# if __name__ == \"__main__\":\n",
    "    # my_stack = Stack()\n",
    "    # print(my_stack) # calls __str__()\n",
    "    \n"
   ]
  },
  {
   "cell_type": "code",
   "execution_count": 19,
   "metadata": {},
   "outputs": [
    {
     "name": "stdout",
     "output_type": "stream",
     "text": [
      "[]\n",
      "True\n"
     ]
    }
   ],
   "source": [
    "my_stack = Stack()\n",
    "print(my_stack) # calls __str__()\n",
    "print(my_stack.is_empty())"
   ]
  },
  {
   "cell_type": "code",
   "execution_count": 13,
   "metadata": {},
   "outputs": [
    {
     "name": "stdout",
     "output_type": "stream",
     "text": [
      "[8]\n"
     ]
    }
   ],
   "source": [
    "my_stack.push(8)\n",
    "print(my_stack)"
   ]
  },
  {
   "cell_type": "code",
   "execution_count": 14,
   "metadata": {},
   "outputs": [
    {
     "name": "stdout",
     "output_type": "stream",
     "text": [
      "[8, 9, 10]\n"
     ]
    }
   ],
   "source": [
    "my_stack.push(9)\n",
    "my_stack.push(10)\n",
    "print(my_stack)"
   ]
  },
  {
   "cell_type": "code",
   "execution_count": 15,
   "metadata": {},
   "outputs": [
    {
     "name": "stdout",
     "output_type": "stream",
     "text": [
      "10\n",
      "[8, 9]\n"
     ]
    }
   ],
   "source": [
    "print(my_stack.pop()) # returns the value\n",
    "print(my_stack)"
   ]
  },
  {
   "cell_type": "code",
   "execution_count": 18,
   "metadata": {},
   "outputs": [
    {
     "name": "stdout",
     "output_type": "stream",
     "text": [
      "9\n",
      "Size  2\n"
     ]
    }
   ],
   "source": [
    "print(my_stack.peek())\n",
    "print(\"Size \", my_stack.size())"
   ]
  },
  {
   "cell_type": "code",
   "execution_count": null,
   "metadata": {},
   "outputs": [],
   "source": []
  }
 ],
 "metadata": {
  "kernelspec": {
   "display_name": "ml39",
   "language": "python",
   "name": "python3"
  },
  "language_info": {
   "codemirror_mode": {
    "name": "ipython",
    "version": 3
   },
   "file_extension": ".py",
   "mimetype": "text/x-python",
   "name": "python",
   "nbconvert_exporter": "python",
   "pygments_lexer": "ipython3",
   "version": "3.9.0"
  }
 },
 "nbformat": 4,
 "nbformat_minor": 2
}
