{
 "cells": [
  {
   "cell_type": "markdown",
   "id": "9215a124",
   "metadata": {},
   "source": [
    "Regular expressions are used to find patterns, manipulating text in general."
   ]
  },
  {
   "cell_type": "code",
   "execution_count": 1,
   "id": "a05c0181",
   "metadata": {},
   "outputs": [],
   "source": [
    "import re #importing library for regular expressions"
   ]
  },
  {
   "cell_type": "markdown",
   "id": "1c1abdf3",
   "metadata": {},
   "source": [
    "Four Functions are supported by re - <br>\n",
    "**findall** finds all matched strings and pull them out<br>\n",
    "**search** extracts only the first occurance of the match and includes info like start and end indices<br>\n",
    "**split** split the match by some specific signs<br>\n",
    "**sub** substitue method. You can mask the matched  string with some other string, kind of like encoding\n",
    "<br><br>\n",
    "Additionally, \n",
    "**meta-character** characters with special meaning. <br>\n",
    "**special sequence** slash \"\\\\\" is a meta-character used in special sequence"
   ]
  },
  {
   "cell_type": "code",
   "execution_count": 15,
   "id": "bc00d06e",
   "metadata": {},
   "outputs": [
    {
     "name": "stdout",
     "output_type": "stream",
     "text": [
      "['is']\n",
      "['i', 's', 's', 'i']\n"
     ]
    }
   ],
   "source": [
    "string = 'Goku is the best Saiyan!'\n",
    "\n",
    "#I want to extract the word is using re\n",
    "string_re = \"is\"\n",
    "\n",
    "list_re = re.findall(string_re, string)\n",
    "print(list_re)\n",
    "\n",
    "# to find al i's and s's not necessarily in that order\n",
    "list_re = re.findall('[is]', string)\n",
    "print(list_re)"
   ]
  },
  {
   "cell_type": "markdown",
   "id": "612b38f4",
   "metadata": {},
   "source": [
    "Meta-characters"
   ]
  },
  {
   "cell_type": "code",
   "execution_count": 9,
   "id": "f6243d94",
   "metadata": {},
   "outputs": [
    {
     "name": "stdout",
     "output_type": "stream",
     "text": [
      "['is', 'iy']\n"
     ]
    }
   ],
   "source": [
    "# \".\" is a meta-character, means i followed by any character\n",
    "i_re = \"i.\" \n",
    "list_mc = re.findall(i_re, string)\n",
    "print(list_mc)"
   ]
  },
  {
   "cell_type": "code",
   "execution_count": 12,
   "id": "b50231e3",
   "metadata": {},
   "outputs": [
    {
     "name": "stdout",
     "output_type": "stream",
     "text": [
      "['Goku']\n",
      "[]\n",
      "['!']\n"
     ]
    }
   ],
   "source": [
    "# ^ is used to check the start of the string\n",
    "start_re = \"^Goku\"\n",
    "list_mc = re.findall(start_re, string)\n",
    "print(list_mc)\n",
    "\n",
    "start_re = \"^the\"\n",
    "list_mc = re.findall(start_re, string)\n",
    "print(list_mc)\n",
    "\n",
    "# while $ specifies an ending\n",
    "end_re = \"!$\"\n",
    "list_mc = re.findall(end_re, string)\n",
    "print(list_mc)"
   ]
  },
  {
   "cell_type": "code",
   "execution_count": null,
   "id": "2d0c0526",
   "metadata": {},
   "outputs": [],
   "source": [
    "# \"+\" to look for one or more"
   ]
  },
  {
   "cell_type": "code",
   "execution_count": 6,
   "id": "fcea7fd3",
   "metadata": {},
   "outputs": [
    {
     "name": "stdout",
     "output_type": "stream",
     "text": [
      "['This', 'string', 'has', 'spaces.', 'It', 'also', 'has', 'periods.', 'Now,it,has,commas,too!']\n",
      "['This string has spaces. It also has periods. Now', 'it', 'has', 'commas', 'too!']\n",
      " It also has periods\n"
     ]
    }
   ],
   "source": [
    "# one common regex method I use frequently is split()\n",
    "# it splits a string based on a pattern you give\n",
    "\n",
    "str1 = \"This string has spaces. It also has periods. Now,it,has,commas,too!\"\n",
    "print(str1.split(\" \")) # separate by spaces\n",
    "print(str1.split(\",\"))  \n",
    "print(str1.split(\".\")[1])"
   ]
  },
  {
   "cell_type": "code",
   "execution_count": null,
   "id": "4ff5e5df",
   "metadata": {},
   "outputs": [],
   "source": []
  }
 ],
 "metadata": {
  "kernelspec": {
   "display_name": "Python 3.9.12 ('ml39')",
   "language": "python",
   "name": "python3"
  },
  "language_info": {
   "codemirror_mode": {
    "name": "ipython",
    "version": 3
   },
   "file_extension": ".py",
   "mimetype": "text/x-python",
   "name": "python",
   "nbconvert_exporter": "python",
   "pygments_lexer": "ipython3",
   "version": "3.9.12"
  },
  "vscode": {
   "interpreter": {
    "hash": "9a9823123dce4654294f13888679f8f2891e3316c150b89d10b977c182808e4e"
   }
  }
 },
 "nbformat": 4,
 "nbformat_minor": 5
}
