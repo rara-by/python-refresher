{
 "cells": [
  {
   "cell_type": "markdown",
   "id": "43378175",
   "metadata": {},
   "source": [
    "Sometimes we need to define our own functions. `print()`, `abs()` etc. are functions. We might need to create our own. Lets dig in!"
   ]
  },
  {
   "cell_type": "code",
   "execution_count": 2,
   "id": "522b1911",
   "metadata": {},
   "outputs": [],
   "source": [
    "#let's make a function that returns the maximum difference between three numbers\n",
    "def max_difference(num1, num2, num3):\n",
    "    \n",
    "    '''Let's discuss the syntax first\n",
    "    def is the Python keyword that means you are about to define your own function\n",
    "    then comes the function name, you pick!\n",
    "    inside parenthesis you pass arguments and parameters (whatever you would want to use inside)\n",
    "    the : is crucial. Also, indent the following sentences to indicate they are inside the function'''\n",
    "    \n",
    "    diff1 = abs(num1 - num2) #these are statements\n",
    "    diff2 = abs(num1 - num3)\n",
    "    diff3 = abs(num2 - num3)\n",
    "    \n",
    "    return max(diff1, diff2, diff3)\n",
    "#returns whatever you want out of this function, if you don't put the return here, the function would return \"None\""
   ]
  },
  {
   "cell_type": "markdown",
   "id": "d8c6961e",
   "metadata": {},
   "source": [
    "My function is ready, now we see it in action:"
   ]
  },
  {
   "cell_type": "code",
   "execution_count": 3,
   "id": "4e0e10d1",
   "metadata": {},
   "outputs": [
    {
     "name": "stdout",
     "output_type": "stream",
     "text": [
      "5\n"
     ]
    }
   ],
   "source": [
    "print(max_difference(2,7,4))"
   ]
  },
  {
   "cell_type": "code",
   "execution_count": 4,
   "id": "4eb2f233",
   "metadata": {},
   "outputs": [
    {
     "name": "stdout",
     "output_type": "stream",
     "text": [
      "Help on function max_difference in module __main__:\n",
      "\n",
      "max_difference(num1, num2, num3)\n",
      "    let's discuss the syntax first\n",
      "    def is the Python keyword that means you are about to define your own function\n",
      "    then comes the function name, you pick!\n",
      "    inside parenthesis you pass arguments and parameters (whatever you would want to use inside)\n",
      "    the : is crucial. Also, indent the following sentences to indicate they are inside the function\n",
      "\n"
     ]
    }
   ],
   "source": [
    "#putting the comments in docstring allows use of help() for user-defined fnctions!\n",
    "help(max_difference)"
   ]
  },
  {
   "cell_type": "markdown",
   "id": "20a41c03",
   "metadata": {},
   "source": [
    "If you have experience with other languages, you may have noticed something interesting. Instead of second brackets, Python uses indentation to structure code. To start an indented code block you put a `:`, then for the rest of the block you use the same amount of indentation and once you go back to previous indentation that indicates an end to your indented block. <br>\n",
    "The standard practice is to use 4 spaces."
   ]
  },
  {
   "cell_type": "code",
   "execution_count": 10,
   "id": "1851ee96",
   "metadata": {},
   "outputs": [
    {
     "name": "stdout",
     "output_type": "stream",
     "text": [
      "[3, 4]\n",
      "[3, 4, 8]\n"
     ]
    }
   ],
   "source": [
    "#This is a function\n",
    "created_list = list((3,4))\n",
    "print(created_list)\n",
    "\n",
    "#This is a method \n",
    "created_list.append(8)\n",
    "print(created_list)"
   ]
  },
  {
   "cell_type": "markdown",
   "id": "52f125c8",
   "metadata": {},
   "source": [
    "Assigning a variable in Python does not create a copy, it's merely a reference to the object it's been assigned. "
   ]
  },
  {
   "cell_type": "code",
   "execution_count": 11,
   "id": "9c9b1d0b",
   "metadata": {},
   "outputs": [
    {
     "data": {
      "text/plain": [
       "[3, 4, 8, 100]"
      ]
     },
     "execution_count": 11,
     "metadata": {},
     "output_type": "execute_result"
    }
   ],
   "source": [
    "assigned_list_variable = created_list\n",
    "assigned_list_variable.append(100)\n",
    "created_list"
   ]
  },
  {
   "cell_type": "markdown",
   "id": "c8181110",
   "metadata": {},
   "source": [
    "*When you pass objects as arguments to a function, new local variables are created ref‐\n",
    "erencing the original objects without any copying. If you bind a new object to a vari‐\n",
    "able inside a function, that change will not be reflected in the parent scope.* - Wes McKinney, Python for Data Analysis"
   ]
  },
  {
   "cell_type": "markdown",
   "id": "66023695",
   "metadata": {},
   "source": [
    "If you have optional arguments in your function, put them last. Here's an example-"
   ]
  },
  {
   "cell_type": "code",
   "execution_count": 1,
   "id": "1f75bf20",
   "metadata": {},
   "outputs": [
    {
     "name": "stdout",
     "output_type": "stream",
     "text": [
      "13\n",
      "16\n"
     ]
    }
   ],
   "source": [
    "def add_num(a, b, c=None): # c is the optional variable\n",
    "    if c == None:\n",
    "        return a + b\n",
    "    else:\n",
    "        return a + b + c\n",
    "\n",
    "print(add_num(6, 7))\n",
    "print(add_num(6, 7, 3))"
   ]
  },
  {
   "cell_type": "markdown",
   "id": "7f35764b",
   "metadata": {},
   "source": [
    "### Lambda Functions\n",
    "Lambdas are Python's way of creating anonymous functions. For simple and short-lived functions. "
   ]
  },
  {
   "cell_type": "code",
   "execution_count": 3,
   "id": "f38d46a5",
   "metadata": {},
   "outputs": [
    {
     "name": "stdout",
     "output_type": "stream",
     "text": [
      "<function <lambda> at 0x00000236F9AD23A0>\n",
      "12\n"
     ]
    }
   ],
   "source": [
    "# the fotrmat is \n",
    "# lambda list of arguments: expression\n",
    "# there can only be one expression\n",
    "\n",
    "lambd = lambda p, q: p * q # a lambda function to multiply two variables\n",
    "\n",
    "# a function reference is returned\n",
    "# you can't set default values or use complex logics because single expression\n",
    "\n",
    "print(lambd) # the reference\n",
    "print(lambd(3, 4)) # the function in action"
   ]
  },
  {
   "cell_type": "markdown",
   "id": "d882c388",
   "metadata": {},
   "source": [
    "### map()"
   ]
  },
  {
   "cell_type": "code",
   "execution_count": null,
   "id": "d336f71d",
   "metadata": {},
   "outputs": [],
   "source": []
  }
 ],
 "metadata": {
  "kernelspec": {
   "display_name": "Python 3.9.12 ('ml39')",
   "language": "python",
   "name": "python3"
  },
  "language_info": {
   "codemirror_mode": {
    "name": "ipython",
    "version": 3
   },
   "file_extension": ".py",
   "mimetype": "text/x-python",
   "name": "python",
   "nbconvert_exporter": "python",
   "pygments_lexer": "ipython3",
   "version": "3.9.12"
  },
  "vscode": {
   "interpreter": {
    "hash": "9a9823123dce4654294f13888679f8f2891e3316c150b89d10b977c182808e4e"
   }
  }
 },
 "nbformat": 4,
 "nbformat_minor": 5
}
