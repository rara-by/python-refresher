{
 "cells": [
  {
   "cell_type": "markdown",
   "id": "4abe7288",
   "metadata": {},
   "source": [
    "A module is a file ending with _.py_ located in the same directory. Importing them allows you to access the functions and variables in that file."
   ]
  },
  {
   "cell_type": "markdown",
   "id": "50368640",
   "metadata": {},
   "source": [
    "### Datetime"
   ]
  },
  {
   "cell_type": "code",
   "execution_count": 2,
   "id": "6026b96b",
   "metadata": {},
   "outputs": [
    {
     "name": "stdout",
     "output_type": "stream",
     "text": [
      "Day  9\n",
      "Hour 11\n",
      "Date 2021-12-09\n"
     ]
    }
   ],
   "source": [
    "from datetime import datetime, date, time\n",
    "\n",
    "dt = datetime(2021, 12, 9, 11, 43, 23)\n",
    "print(\"Day \", dt.day)\n",
    "print(\"Hour\", dt.hour)\n",
    "print(\"Date\", dt.date())"
   ]
  },
  {
   "cell_type": "code",
   "execution_count": 3,
   "id": "528d7253",
   "metadata": {},
   "outputs": [
    {
     "name": "stdout",
     "output_type": "stream",
     "text": [
      "2021-12-09 11:43:23\n"
     ]
    },
    {
     "data": {
      "text/plain": [
       "datetime.datetime(2021, 12, 9, 11, 43, 23)"
      ]
     },
     "execution_count": 3,
     "metadata": {},
     "output_type": "execute_result"
    }
   ],
   "source": [
    "print(dt)\n",
    "dt"
   ]
  },
  {
   "cell_type": "code",
   "execution_count": 4,
   "id": "b3c25789",
   "metadata": {},
   "outputs": [
    {
     "data": {
      "text/plain": [
       "'12/09/2021 11:43'"
      ]
     },
     "execution_count": 4,
     "metadata": {},
     "output_type": "execute_result"
    }
   ],
   "source": [
    "#format a datetime as a string\n",
    "dt.strftime('%m/%d/%Y %H:%M') \n",
    "\n",
    "# %Y indicates 4 digit year and %y indicates 2 digit year\n",
    "# %H indicates 24 hr clock, %I indicates 12 hr clock"
   ]
  },
  {
   "cell_type": "code",
   "execution_count": 5,
   "id": "30ff9106",
   "metadata": {},
   "outputs": [
    {
     "data": {
      "text/plain": [
       "datetime.datetime(2021, 10, 10, 0, 0)"
      ]
     },
     "execution_count": 5,
     "metadata": {},
     "output_type": "execute_result"
    }
   ],
   "source": [
    "#parse string into datetime object\n",
    "datetime.strptime('20211010', '%Y%m%d')"
   ]
  },
  {
   "cell_type": "code",
   "execution_count": 6,
   "id": "d405503b",
   "metadata": {},
   "outputs": [
    {
     "data": {
      "text/plain": [
       "datetime.datetime(2021, 12, 9, 11, 33, 23)"
      ]
     },
     "execution_count": 6,
     "metadata": {},
     "output_type": "execute_result"
    }
   ],
   "source": [
    "dt.replace(minute=33)\n",
    "\n",
    "#datetime creates an immutable object.A new object is produced by this method"
   ]
  },
  {
   "cell_type": "code",
   "execution_count": 7,
   "id": "62c06e86",
   "metadata": {},
   "outputs": [
    {
     "data": {
      "text/plain": [
       "datetime.datetime(2021, 12, 9, 11, 43, 23)"
      ]
     },
     "execution_count": 7,
     "metadata": {},
     "output_type": "execute_result"
    }
   ],
   "source": [
    "dt # remains unchanged"
   ]
  },
  {
   "cell_type": "code",
   "execution_count": 8,
   "id": "c088b7cb",
   "metadata": {},
   "outputs": [
    {
     "data": {
      "text/plain": [
       "datetime.timedelta(seconds=600)"
      ]
     },
     "execution_count": 8,
     "metadata": {},
     "output_type": "execute_result"
    }
   ],
   "source": [
    "# Time difference\n",
    "\n",
    "dt2 = dt.replace(minute=33)\n",
    "delta = dt - dt2 \n",
    "delta #the offset, datetime.timedelta type"
   ]
  },
  {
   "cell_type": "markdown",
   "id": "ecc33616",
   "metadata": {},
   "source": [
    "### CSV"
   ]
  },
  {
   "cell_type": "code",
   "execution_count": 9,
   "id": "be7d6d3e",
   "metadata": {},
   "outputs": [
    {
     "data": {
      "text/plain": [
       "[{'age': '19',\n",
       "  'sex': 'female',\n",
       "  'bmi': '27.9',\n",
       "  'children': '0',\n",
       "  'smoker': 'yes',\n",
       "  'region': 'southwest',\n",
       "  'charges': '16884.924'},\n",
       " {'age': '18',\n",
       "  'sex': 'male',\n",
       "  'bmi': '33.77',\n",
       "  'children': '1',\n",
       "  'smoker': 'no',\n",
       "  'region': 'southeast',\n",
       "  'charges': '1725.5523'}]"
      ]
     },
     "execution_count": 9,
     "metadata": {},
     "output_type": "execute_result"
    }
   ],
   "source": [
    "# We are going to be using a lot of CSV files\n",
    "# though we will use Pandas mainly, it is handy to learn to use the csv module\n",
    "import csv \n",
    "\n",
    "# magic command to maintain floating point precision up to two decimals\n",
    "%precision 2 \n",
    "\n",
    "with open('../insurance.csv') as csvfile:\n",
    "    my_csv = list(csv.DictReader(csvfile))\n",
    "\n",
    "my_csv[:2]"
   ]
  },
  {
   "cell_type": "code",
   "execution_count": 10,
   "id": "ced96a38",
   "metadata": {},
   "outputs": [
    {
     "name": "stdout",
     "output_type": "stream",
     "text": [
      "Number of rows in my csv file:  1338\n",
      "Keys in the dict read from the csv file:\n"
     ]
    },
    {
     "data": {
      "text/plain": [
       "dict_keys(['age', 'sex', 'bmi', 'children', 'smoker', 'region', 'charges'])"
      ]
     },
     "execution_count": 10,
     "metadata": {},
     "output_type": "execute_result"
    }
   ],
   "source": [
    "print(\"Number of rows in my csv file: \", len(my_csv))\n",
    "\n",
    "print(\"Keys in the dict read from the csv file:\")\n",
    "my_csv[0].keys()"
   ]
  },
  {
   "cell_type": "code",
   "execution_count": 11,
   "id": "427fa209",
   "metadata": {},
   "outputs": [
    {
     "data": {
      "text/plain": [
       "{'northeast', 'northwest', 'southeast', 'southwest'}"
      ]
     },
     "execution_count": 11,
     "metadata": {},
     "output_type": "execute_result"
    }
   ],
   "source": [
    "# Let's find the unique regions in this dataset \n",
    "# A set only contains unique values\n",
    "region_set = set(reg['region'] for reg in my_csv)\n",
    "region_set"
   ]
  },
  {
   "cell_type": "markdown",
   "id": "5de3e67e",
   "metadata": {},
   "source": [
    "### Numpy\n",
    "For fast processing of data in the form of arrays (lists/lists of lists)"
   ]
  },
  {
   "cell_type": "code",
   "execution_count": 12,
   "id": "2bb88915",
   "metadata": {},
   "outputs": [
    {
     "name": "stdout",
     "output_type": "stream",
     "text": [
      "The array\n",
      " [[1 2]\n",
      " [7 8]]\n",
      "Its dimensions 2\n",
      "Its shape (2, 2)\n"
     ]
    }
   ],
   "source": [
    "import numpy as np \n",
    "\n",
    "np_array = np.array(([1, 2], [7, 8]))\n",
    "print(\"The array\\n\", np_array)\n",
    "print(\"Its dimensions\", np_array.ndim)\n",
    "print(\"Its shape\", np_array.shape)"
   ]
  },
  {
   "cell_type": "code",
   "execution_count": 13,
   "id": "d0b7bc00",
   "metadata": {},
   "outputs": [
    {
     "name": "stdout",
     "output_type": "stream",
     "text": [
      "[0. 0. 0. 0.]\n",
      "[[1. 1. 1.]\n",
      " [1. 1. 1.]]\n",
      "[[0.05156446 0.29308214 0.62619342 0.2445484 ]\n",
      " [0.80775237 0.96589459 0.17878803 0.0407957 ]\n",
      " [0.29564673 0.54373987 0.94080266 0.94991135]\n",
      " [0.29232954 0.99409294 0.18052086 0.93001848]]\n",
      "[[False False  True False]\n",
      " [ True  True False False]\n",
      " [False  True  True  True]\n",
      " [False  True False  True]]\n",
      "[[[0.05156446 0.29308214 0.62619342 0.2445484 ]\n",
      "  [0.80775237 0.96589459 0.17878803 0.0407957 ]]\n",
      "\n",
      " [[0.29564673 0.54373987 0.94080266 0.94991135]\n",
      "  [0.29232954 0.99409294 0.18052086 0.93001848]]]\n"
     ]
    }
   ],
   "source": [
    "# some common numpy methods\n",
    "# notice the argument formats\n",
    "%precision 2\n",
    "\n",
    "zeros_arr = np.zeros(4)\n",
    "print(zeros_arr)\n",
    "ones_arr = np.ones((2, 3))\n",
    "print(ones_arr)\n",
    "rand_arr = np.random.rand(4, 4)\n",
    "print(rand_arr)\n",
    "\n",
    "# let's print a boolean array to pass some condition\n",
    "print(rand_arr > 0.3)\n",
    "\n",
    "# another common method is for reshaping an array\n",
    "reshaped_rand_arr = rand_arr.reshape(2, 2, 4) # pass the desired dimensions\n",
    "print(reshaped_rand_arr)"
   ]
  },
  {
   "cell_type": "code",
   "execution_count": 14,
   "id": "a1b2f37a",
   "metadata": {},
   "outputs": [
    {
     "name": "stdout",
     "output_type": "stream",
     "text": [
      "Array 1\n",
      " [[2. 2.]\n",
      " [2. 2.]]\n",
      "Array 2\n",
      " [[3. 3.]\n",
      " [3. 3.]]\n",
      "Dot multiplication:\n",
      " [[12. 12.]\n",
      " [12. 12.]]\n",
      "Elementwise multiplication:\n",
      " [[6. 6.]\n",
      " [6. 6.]]\n"
     ]
    }
   ],
   "source": [
    "# a tiny thing to remember when it comes to array multiplications\n",
    "array1 = np.ones((2, 2)) * 2\n",
    "array2 = np.ones((2, 2)) * 3\n",
    "print(\"Array 1\\n\", array1)\n",
    "print(\"Array 2\\n\", array2)\n",
    "\n",
    "print(\"Dot multiplication:\\n\", np.dot(array1, array2))\n",
    "print(\"Elementwise multiplication:\\n\", array1*array2) \n",
    "# another way to perform element-wise miltiplication is \n",
    "# np.multiply(array1, array2)"
   ]
  },
  {
   "cell_type": "code",
   "execution_count": 15,
   "id": "6c9b1759",
   "metadata": {},
   "outputs": [
    {
     "name": "stdout",
     "output_type": "stream",
     "text": [
      "Array 3\n",
      " [[1 1]\n",
      " [2 2]\n",
      " [3 3]]\n"
     ]
    },
    {
     "data": {
      "text/plain": [
       "array([[1],\n",
       "       [2]])"
      ]
     },
     "execution_count": 15,
     "metadata": {},
     "output_type": "execute_result"
    }
   ],
   "source": [
    "# slicing an array is much like that of a list\n",
    "array3 = np.array((([1, 1], [2, 2], [3, 3])))\n",
    "print(\"Array 3\\n\", array3)\n",
    "array3[:2, :1] # if thise slice is modified the original array will be changed too, as it's a reference"
   ]
  },
  {
   "cell_type": "markdown",
   "id": "bf1b1337",
   "metadata": {},
   "source": [
    "### Pandas"
   ]
  },
  {
   "cell_type": "markdown",
   "id": "7b67fa38",
   "metadata": {},
   "source": [
    "#### Pivot Table \n",
    "([Tutorial](https://www.kdnuggets.com/how-to-use-the-pivot_table-function-for-advanced-data-summarization-in-pandas))"
   ]
  },
  {
   "cell_type": "code",
   "execution_count": 16,
   "id": "768a10b6",
   "metadata": {},
   "outputs": [
    {
     "data": {
      "text/html": [
       "<div>\n",
       "<style scoped>\n",
       "    .dataframe tbody tr th:only-of-type {\n",
       "        vertical-align: middle;\n",
       "    }\n",
       "\n",
       "    .dataframe tbody tr th {\n",
       "        vertical-align: top;\n",
       "    }\n",
       "\n",
       "    .dataframe thead th {\n",
       "        text-align: right;\n",
       "    }\n",
       "</style>\n",
       "<table border=\"1\" class=\"dataframe\">\n",
       "  <thead>\n",
       "    <tr style=\"text-align: right;\">\n",
       "      <th></th>\n",
       "      <th>survived</th>\n",
       "      <th>pclass</th>\n",
       "      <th>sex</th>\n",
       "      <th>age</th>\n",
       "      <th>sibsp</th>\n",
       "      <th>parch</th>\n",
       "      <th>fare</th>\n",
       "      <th>embarked</th>\n",
       "      <th>class</th>\n",
       "      <th>who</th>\n",
       "      <th>adult_male</th>\n",
       "      <th>deck</th>\n",
       "      <th>embark_town</th>\n",
       "      <th>alive</th>\n",
       "      <th>alone</th>\n",
       "    </tr>\n",
       "  </thead>\n",
       "  <tbody>\n",
       "    <tr>\n",
       "      <th>0</th>\n",
       "      <td>0</td>\n",
       "      <td>3</td>\n",
       "      <td>male</td>\n",
       "      <td>22.0</td>\n",
       "      <td>1</td>\n",
       "      <td>0</td>\n",
       "      <td>7.2500</td>\n",
       "      <td>S</td>\n",
       "      <td>Third</td>\n",
       "      <td>man</td>\n",
       "      <td>True</td>\n",
       "      <td>NaN</td>\n",
       "      <td>Southampton</td>\n",
       "      <td>no</td>\n",
       "      <td>False</td>\n",
       "    </tr>\n",
       "    <tr>\n",
       "      <th>1</th>\n",
       "      <td>1</td>\n",
       "      <td>1</td>\n",
       "      <td>female</td>\n",
       "      <td>38.0</td>\n",
       "      <td>1</td>\n",
       "      <td>0</td>\n",
       "      <td>71.2833</td>\n",
       "      <td>C</td>\n",
       "      <td>First</td>\n",
       "      <td>woman</td>\n",
       "      <td>False</td>\n",
       "      <td>C</td>\n",
       "      <td>Cherbourg</td>\n",
       "      <td>yes</td>\n",
       "      <td>False</td>\n",
       "    </tr>\n",
       "    <tr>\n",
       "      <th>2</th>\n",
       "      <td>1</td>\n",
       "      <td>3</td>\n",
       "      <td>female</td>\n",
       "      <td>26.0</td>\n",
       "      <td>0</td>\n",
       "      <td>0</td>\n",
       "      <td>7.9250</td>\n",
       "      <td>S</td>\n",
       "      <td>Third</td>\n",
       "      <td>woman</td>\n",
       "      <td>False</td>\n",
       "      <td>NaN</td>\n",
       "      <td>Southampton</td>\n",
       "      <td>yes</td>\n",
       "      <td>True</td>\n",
       "    </tr>\n",
       "    <tr>\n",
       "      <th>3</th>\n",
       "      <td>1</td>\n",
       "      <td>1</td>\n",
       "      <td>female</td>\n",
       "      <td>35.0</td>\n",
       "      <td>1</td>\n",
       "      <td>0</td>\n",
       "      <td>53.1000</td>\n",
       "      <td>S</td>\n",
       "      <td>First</td>\n",
       "      <td>woman</td>\n",
       "      <td>False</td>\n",
       "      <td>C</td>\n",
       "      <td>Southampton</td>\n",
       "      <td>yes</td>\n",
       "      <td>False</td>\n",
       "    </tr>\n",
       "    <tr>\n",
       "      <th>4</th>\n",
       "      <td>0</td>\n",
       "      <td>3</td>\n",
       "      <td>male</td>\n",
       "      <td>35.0</td>\n",
       "      <td>0</td>\n",
       "      <td>0</td>\n",
       "      <td>8.0500</td>\n",
       "      <td>S</td>\n",
       "      <td>Third</td>\n",
       "      <td>man</td>\n",
       "      <td>True</td>\n",
       "      <td>NaN</td>\n",
       "      <td>Southampton</td>\n",
       "      <td>no</td>\n",
       "      <td>True</td>\n",
       "    </tr>\n",
       "    <tr>\n",
       "      <th>...</th>\n",
       "      <td>...</td>\n",
       "      <td>...</td>\n",
       "      <td>...</td>\n",
       "      <td>...</td>\n",
       "      <td>...</td>\n",
       "      <td>...</td>\n",
       "      <td>...</td>\n",
       "      <td>...</td>\n",
       "      <td>...</td>\n",
       "      <td>...</td>\n",
       "      <td>...</td>\n",
       "      <td>...</td>\n",
       "      <td>...</td>\n",
       "      <td>...</td>\n",
       "      <td>...</td>\n",
       "    </tr>\n",
       "    <tr>\n",
       "      <th>886</th>\n",
       "      <td>0</td>\n",
       "      <td>2</td>\n",
       "      <td>male</td>\n",
       "      <td>27.0</td>\n",
       "      <td>0</td>\n",
       "      <td>0</td>\n",
       "      <td>13.0000</td>\n",
       "      <td>S</td>\n",
       "      <td>Second</td>\n",
       "      <td>man</td>\n",
       "      <td>True</td>\n",
       "      <td>NaN</td>\n",
       "      <td>Southampton</td>\n",
       "      <td>no</td>\n",
       "      <td>True</td>\n",
       "    </tr>\n",
       "    <tr>\n",
       "      <th>887</th>\n",
       "      <td>1</td>\n",
       "      <td>1</td>\n",
       "      <td>female</td>\n",
       "      <td>19.0</td>\n",
       "      <td>0</td>\n",
       "      <td>0</td>\n",
       "      <td>30.0000</td>\n",
       "      <td>S</td>\n",
       "      <td>First</td>\n",
       "      <td>woman</td>\n",
       "      <td>False</td>\n",
       "      <td>B</td>\n",
       "      <td>Southampton</td>\n",
       "      <td>yes</td>\n",
       "      <td>True</td>\n",
       "    </tr>\n",
       "    <tr>\n",
       "      <th>888</th>\n",
       "      <td>0</td>\n",
       "      <td>3</td>\n",
       "      <td>female</td>\n",
       "      <td>NaN</td>\n",
       "      <td>1</td>\n",
       "      <td>2</td>\n",
       "      <td>23.4500</td>\n",
       "      <td>S</td>\n",
       "      <td>Third</td>\n",
       "      <td>woman</td>\n",
       "      <td>False</td>\n",
       "      <td>NaN</td>\n",
       "      <td>Southampton</td>\n",
       "      <td>no</td>\n",
       "      <td>False</td>\n",
       "    </tr>\n",
       "    <tr>\n",
       "      <th>889</th>\n",
       "      <td>1</td>\n",
       "      <td>1</td>\n",
       "      <td>male</td>\n",
       "      <td>26.0</td>\n",
       "      <td>0</td>\n",
       "      <td>0</td>\n",
       "      <td>30.0000</td>\n",
       "      <td>C</td>\n",
       "      <td>First</td>\n",
       "      <td>man</td>\n",
       "      <td>True</td>\n",
       "      <td>C</td>\n",
       "      <td>Cherbourg</td>\n",
       "      <td>yes</td>\n",
       "      <td>True</td>\n",
       "    </tr>\n",
       "    <tr>\n",
       "      <th>890</th>\n",
       "      <td>0</td>\n",
       "      <td>3</td>\n",
       "      <td>male</td>\n",
       "      <td>32.0</td>\n",
       "      <td>0</td>\n",
       "      <td>0</td>\n",
       "      <td>7.7500</td>\n",
       "      <td>Q</td>\n",
       "      <td>Third</td>\n",
       "      <td>man</td>\n",
       "      <td>True</td>\n",
       "      <td>NaN</td>\n",
       "      <td>Queenstown</td>\n",
       "      <td>no</td>\n",
       "      <td>True</td>\n",
       "    </tr>\n",
       "  </tbody>\n",
       "</table>\n",
       "<p>891 rows × 15 columns</p>\n",
       "</div>"
      ],
      "text/plain": [
       "     survived  pclass     sex   age  sibsp  parch     fare embarked   class  \\\n",
       "0           0       3    male  22.0      1      0   7.2500        S   Third   \n",
       "1           1       1  female  38.0      1      0  71.2833        C   First   \n",
       "2           1       3  female  26.0      0      0   7.9250        S   Third   \n",
       "3           1       1  female  35.0      1      0  53.1000        S   First   \n",
       "4           0       3    male  35.0      0      0   8.0500        S   Third   \n",
       "..        ...     ...     ...   ...    ...    ...      ...      ...     ...   \n",
       "886         0       2    male  27.0      0      0  13.0000        S  Second   \n",
       "887         1       1  female  19.0      0      0  30.0000        S   First   \n",
       "888         0       3  female   NaN      1      2  23.4500        S   Third   \n",
       "889         1       1    male  26.0      0      0  30.0000        C   First   \n",
       "890         0       3    male  32.0      0      0   7.7500        Q   Third   \n",
       "\n",
       "       who  adult_male deck  embark_town alive  alone  \n",
       "0      man        True  NaN  Southampton    no  False  \n",
       "1    woman       False    C    Cherbourg   yes  False  \n",
       "2    woman       False  NaN  Southampton   yes   True  \n",
       "3    woman       False    C  Southampton   yes  False  \n",
       "4      man        True  NaN  Southampton    no   True  \n",
       "..     ...         ...  ...          ...   ...    ...  \n",
       "886    man        True  NaN  Southampton    no   True  \n",
       "887  woman       False    B  Southampton   yes   True  \n",
       "888  woman       False  NaN  Southampton    no  False  \n",
       "889    man        True    C    Cherbourg   yes   True  \n",
       "890    man        True  NaN   Queenstown    no   True  \n",
       "\n",
       "[891 rows x 15 columns]"
      ]
     },
     "execution_count": 16,
     "metadata": {},
     "output_type": "execute_result"
    }
   ],
   "source": [
    "import pandas as pd\n",
    "import seaborn as sns\n",
    "\n",
    "titanic = sns.load_dataset('titanic')\n",
    "titanic"
   ]
  },
  {
   "cell_type": "code",
   "execution_count": 17,
   "id": "28cc3516",
   "metadata": {},
   "outputs": [
    {
     "name": "stderr",
     "output_type": "stream",
     "text": [
      "C:\\Users\\USER\\AppData\\Local\\Temp\\ipykernel_12816\\1635133566.py:1: FutureWarning: The default value of observed=False is deprecated and will change to observed=True in a future version of pandas. Specify observed=False to silence this warning and retain the current behavior\n",
      "  pivot = pd.pivot_table(titanic, values='age', index='class',\n"
     ]
    },
    {
     "data": {
      "text/html": [
       "<div>\n",
       "<style scoped>\n",
       "    .dataframe tbody tr th:only-of-type {\n",
       "        vertical-align: middle;\n",
       "    }\n",
       "\n",
       "    .dataframe tbody tr th {\n",
       "        vertical-align: top;\n",
       "    }\n",
       "\n",
       "    .dataframe thead th {\n",
       "        text-align: right;\n",
       "    }\n",
       "</style>\n",
       "<table border=\"1\" class=\"dataframe\">\n",
       "  <thead>\n",
       "    <tr style=\"text-align: right;\">\n",
       "      <th>sex</th>\n",
       "      <th>female</th>\n",
       "      <th>male</th>\n",
       "      <th>All</th>\n",
       "    </tr>\n",
       "    <tr>\n",
       "      <th>class</th>\n",
       "      <th></th>\n",
       "      <th></th>\n",
       "      <th></th>\n",
       "    </tr>\n",
       "  </thead>\n",
       "  <tbody>\n",
       "    <tr>\n",
       "      <th>First</th>\n",
       "      <td>34.611765</td>\n",
       "      <td>41.281386</td>\n",
       "      <td>38.233441</td>\n",
       "    </tr>\n",
       "    <tr>\n",
       "      <th>Second</th>\n",
       "      <td>28.722973</td>\n",
       "      <td>30.740707</td>\n",
       "      <td>29.877630</td>\n",
       "    </tr>\n",
       "    <tr>\n",
       "      <th>Third</th>\n",
       "      <td>21.750000</td>\n",
       "      <td>26.507589</td>\n",
       "      <td>25.140620</td>\n",
       "    </tr>\n",
       "    <tr>\n",
       "      <th>All</th>\n",
       "      <td>27.915709</td>\n",
       "      <td>30.726645</td>\n",
       "      <td>29.699118</td>\n",
       "    </tr>\n",
       "  </tbody>\n",
       "</table>\n",
       "</div>"
      ],
      "text/plain": [
       "sex        female       male        All\n",
       "class                                  \n",
       "First   34.611765  41.281386  38.233441\n",
       "Second  28.722973  30.740707  29.877630\n",
       "Third   21.750000  26.507589  25.140620\n",
       "All     27.915709  30.726645  29.699118"
      ]
     },
     "execution_count": 17,
     "metadata": {},
     "output_type": "execute_result"
    }
   ],
   "source": [
    "pivot = pd.pivot_table(titanic, values='age', index='class',\n",
    "                       columns='sex', aggfunc='mean', # aggfunc can be a user defined function as well\n",
    "                       margins=True) \n",
    "pivot"
   ]
  },
  {
   "cell_type": "code",
   "execution_count": 18,
   "id": "5ea8843c",
   "metadata": {},
   "outputs": [
    {
     "name": "stderr",
     "output_type": "stream",
     "text": [
      "C:\\Users\\USER\\AppData\\Local\\Temp\\ipykernel_12816\\1600829131.py:1: FutureWarning: The default value of observed=False is deprecated and will change to observed=True in a future version of pandas. Specify observed=False to silence this warning and retain the current behavior\n",
      "  pivot = pd.pivot_table(titanic, values='fare', index='class',\n",
      "C:\\Users\\USER\\AppData\\Local\\Temp\\ipykernel_12816\\1600829131.py:1: FutureWarning: The default value of observed=False is deprecated and will change to observed=True in a future version of pandas. Specify observed=False to silence this warning and retain the current behavior\n",
      "  pivot = pd.pivot_table(titanic, values='fare', index='class',\n"
     ]
    },
    {
     "data": {
      "text/html": [
       "<div>\n",
       "<style scoped>\n",
       "    .dataframe tbody tr th:only-of-type {\n",
       "        vertical-align: middle;\n",
       "    }\n",
       "\n",
       "    .dataframe tbody tr th {\n",
       "        vertical-align: top;\n",
       "    }\n",
       "\n",
       "    .dataframe thead tr th {\n",
       "        text-align: left;\n",
       "    }\n",
       "\n",
       "    .dataframe thead tr:last-of-type th {\n",
       "        text-align: right;\n",
       "    }\n",
       "</style>\n",
       "<table border=\"1\" class=\"dataframe\">\n",
       "  <thead>\n",
       "    <tr>\n",
       "      <th></th>\n",
       "      <th colspan=\"2\" halign=\"left\">mean</th>\n",
       "      <th colspan=\"2\" halign=\"left\">sum</th>\n",
       "    </tr>\n",
       "    <tr>\n",
       "      <th>sex</th>\n",
       "      <th>female</th>\n",
       "      <th>male</th>\n",
       "      <th>female</th>\n",
       "      <th>male</th>\n",
       "    </tr>\n",
       "    <tr>\n",
       "      <th>class</th>\n",
       "      <th></th>\n",
       "      <th></th>\n",
       "      <th></th>\n",
       "      <th></th>\n",
       "    </tr>\n",
       "  </thead>\n",
       "  <tbody>\n",
       "    <tr>\n",
       "      <th>First</th>\n",
       "      <td>106.125798</td>\n",
       "      <td>67.226127</td>\n",
       "      <td>9975.8250</td>\n",
       "      <td>8201.5875</td>\n",
       "    </tr>\n",
       "    <tr>\n",
       "      <th>Second</th>\n",
       "      <td>21.970121</td>\n",
       "      <td>19.741782</td>\n",
       "      <td>1669.7292</td>\n",
       "      <td>2132.1125</td>\n",
       "    </tr>\n",
       "    <tr>\n",
       "      <th>Third</th>\n",
       "      <td>16.118810</td>\n",
       "      <td>12.661633</td>\n",
       "      <td>2321.1086</td>\n",
       "      <td>4393.5865</td>\n",
       "    </tr>\n",
       "  </tbody>\n",
       "</table>\n",
       "</div>"
      ],
      "text/plain": [
       "              mean                   sum           \n",
       "sex         female       male     female       male\n",
       "class                                              \n",
       "First   106.125798  67.226127  9975.8250  8201.5875\n",
       "Second   21.970121  19.741782  1669.7292  2132.1125\n",
       "Third    16.118810  12.661633  2321.1086  4393.5865"
      ]
     },
     "execution_count": 18,
     "metadata": {},
     "output_type": "execute_result"
    }
   ],
   "source": [
    "pivot = pd.pivot_table(titanic, values='fare', index='class', \n",
    "                       columns='sex', aggfunc=['mean', 'sum'])\n",
    "pivot"
   ]
  },
  {
   "cell_type": "markdown",
   "id": "f4f4a593",
   "metadata": {},
   "source": [
    "#### Conditional Formatting"
   ]
  },
  {
   "cell_type": "code",
   "execution_count": 19,
   "id": "7677cabd",
   "metadata": {},
   "outputs": [
    {
     "data": {
      "text/html": [
       "<style type=\"text/css\">\n",
       "#T_e883e_row0_col3, #T_e883e_row0_col11, #T_e883e_row2_col11, #T_e883e_row4_col3, #T_e883e_row4_col11, #T_e883e_row5_col11 {\n",
       "  background-color: orange;\n",
       "}\n",
       "#T_e883e_row1_col3, #T_e883e_row3_col6 {\n",
       "  background-color: green;\n",
       "}\n",
       "#T_e883e_row4_col6, #T_e883e_row5_col3 {\n",
       "  background-color: red;\n",
       "}\n",
       "</style>\n",
       "<table id=\"T_e883e\">\n",
       "  <thead>\n",
       "    <tr>\n",
       "      <th class=\"blank level0\" >&nbsp;</th>\n",
       "      <th id=\"T_e883e_level0_col0\" class=\"col_heading level0 col0\" >survived</th>\n",
       "      <th id=\"T_e883e_level0_col1\" class=\"col_heading level0 col1\" >pclass</th>\n",
       "      <th id=\"T_e883e_level0_col2\" class=\"col_heading level0 col2\" >sex</th>\n",
       "      <th id=\"T_e883e_level0_col3\" class=\"col_heading level0 col3\" >age</th>\n",
       "      <th id=\"T_e883e_level0_col4\" class=\"col_heading level0 col4\" >sibsp</th>\n",
       "      <th id=\"T_e883e_level0_col5\" class=\"col_heading level0 col5\" >parch</th>\n",
       "      <th id=\"T_e883e_level0_col6\" class=\"col_heading level0 col6\" >fare</th>\n",
       "      <th id=\"T_e883e_level0_col7\" class=\"col_heading level0 col7\" >embarked</th>\n",
       "      <th id=\"T_e883e_level0_col8\" class=\"col_heading level0 col8\" >class</th>\n",
       "      <th id=\"T_e883e_level0_col9\" class=\"col_heading level0 col9\" >who</th>\n",
       "      <th id=\"T_e883e_level0_col10\" class=\"col_heading level0 col10\" >adult_male</th>\n",
       "      <th id=\"T_e883e_level0_col11\" class=\"col_heading level0 col11\" >deck</th>\n",
       "      <th id=\"T_e883e_level0_col12\" class=\"col_heading level0 col12\" >embark_town</th>\n",
       "      <th id=\"T_e883e_level0_col13\" class=\"col_heading level0 col13\" >alive</th>\n",
       "      <th id=\"T_e883e_level0_col14\" class=\"col_heading level0 col14\" >alone</th>\n",
       "    </tr>\n",
       "  </thead>\n",
       "  <tbody>\n",
       "    <tr>\n",
       "      <th id=\"T_e883e_level0_row0\" class=\"row_heading level0 row0\" >629</th>\n",
       "      <td id=\"T_e883e_row0_col0\" class=\"data row0 col0\" >0</td>\n",
       "      <td id=\"T_e883e_row0_col1\" class=\"data row0 col1\" >3</td>\n",
       "      <td id=\"T_e883e_row0_col2\" class=\"data row0 col2\" >male</td>\n",
       "      <td id=\"T_e883e_row0_col3\" class=\"data row0 col3\" >nan</td>\n",
       "      <td id=\"T_e883e_row0_col4\" class=\"data row0 col4\" >0</td>\n",
       "      <td id=\"T_e883e_row0_col5\" class=\"data row0 col5\" >0</td>\n",
       "      <td id=\"T_e883e_row0_col6\" class=\"data row0 col6\" >7.733300</td>\n",
       "      <td id=\"T_e883e_row0_col7\" class=\"data row0 col7\" >Q</td>\n",
       "      <td id=\"T_e883e_row0_col8\" class=\"data row0 col8\" >Third</td>\n",
       "      <td id=\"T_e883e_row0_col9\" class=\"data row0 col9\" >man</td>\n",
       "      <td id=\"T_e883e_row0_col10\" class=\"data row0 col10\" >True</td>\n",
       "      <td id=\"T_e883e_row0_col11\" class=\"data row0 col11\" >nan</td>\n",
       "      <td id=\"T_e883e_row0_col12\" class=\"data row0 col12\" >Queenstown</td>\n",
       "      <td id=\"T_e883e_row0_col13\" class=\"data row0 col13\" >no</td>\n",
       "      <td id=\"T_e883e_row0_col14\" class=\"data row0 col14\" >True</td>\n",
       "    </tr>\n",
       "    <tr>\n",
       "      <th id=\"T_e883e_level0_row1\" class=\"row_heading level0 row1\" >630</th>\n",
       "      <td id=\"T_e883e_row1_col0\" class=\"data row1 col0\" >1</td>\n",
       "      <td id=\"T_e883e_row1_col1\" class=\"data row1 col1\" >1</td>\n",
       "      <td id=\"T_e883e_row1_col2\" class=\"data row1 col2\" >male</td>\n",
       "      <td id=\"T_e883e_row1_col3\" class=\"data row1 col3\" >80.000000</td>\n",
       "      <td id=\"T_e883e_row1_col4\" class=\"data row1 col4\" >0</td>\n",
       "      <td id=\"T_e883e_row1_col5\" class=\"data row1 col5\" >0</td>\n",
       "      <td id=\"T_e883e_row1_col6\" class=\"data row1 col6\" >30.000000</td>\n",
       "      <td id=\"T_e883e_row1_col7\" class=\"data row1 col7\" >S</td>\n",
       "      <td id=\"T_e883e_row1_col8\" class=\"data row1 col8\" >First</td>\n",
       "      <td id=\"T_e883e_row1_col9\" class=\"data row1 col9\" >man</td>\n",
       "      <td id=\"T_e883e_row1_col10\" class=\"data row1 col10\" >True</td>\n",
       "      <td id=\"T_e883e_row1_col11\" class=\"data row1 col11\" >A</td>\n",
       "      <td id=\"T_e883e_row1_col12\" class=\"data row1 col12\" >Southampton</td>\n",
       "      <td id=\"T_e883e_row1_col13\" class=\"data row1 col13\" >yes</td>\n",
       "      <td id=\"T_e883e_row1_col14\" class=\"data row1 col14\" >True</td>\n",
       "    </tr>\n",
       "    <tr>\n",
       "      <th id=\"T_e883e_level0_row2\" class=\"row_heading level0 row2\" >631</th>\n",
       "      <td id=\"T_e883e_row2_col0\" class=\"data row2 col0\" >0</td>\n",
       "      <td id=\"T_e883e_row2_col1\" class=\"data row2 col1\" >3</td>\n",
       "      <td id=\"T_e883e_row2_col2\" class=\"data row2 col2\" >male</td>\n",
       "      <td id=\"T_e883e_row2_col3\" class=\"data row2 col3\" >51.000000</td>\n",
       "      <td id=\"T_e883e_row2_col4\" class=\"data row2 col4\" >0</td>\n",
       "      <td id=\"T_e883e_row2_col5\" class=\"data row2 col5\" >0</td>\n",
       "      <td id=\"T_e883e_row2_col6\" class=\"data row2 col6\" >7.054200</td>\n",
       "      <td id=\"T_e883e_row2_col7\" class=\"data row2 col7\" >S</td>\n",
       "      <td id=\"T_e883e_row2_col8\" class=\"data row2 col8\" >Third</td>\n",
       "      <td id=\"T_e883e_row2_col9\" class=\"data row2 col9\" >man</td>\n",
       "      <td id=\"T_e883e_row2_col10\" class=\"data row2 col10\" >True</td>\n",
       "      <td id=\"T_e883e_row2_col11\" class=\"data row2 col11\" >nan</td>\n",
       "      <td id=\"T_e883e_row2_col12\" class=\"data row2 col12\" >Southampton</td>\n",
       "      <td id=\"T_e883e_row2_col13\" class=\"data row2 col13\" >no</td>\n",
       "      <td id=\"T_e883e_row2_col14\" class=\"data row2 col14\" >True</td>\n",
       "    </tr>\n",
       "    <tr>\n",
       "      <th id=\"T_e883e_level0_row3\" class=\"row_heading level0 row3\" >632</th>\n",
       "      <td id=\"T_e883e_row3_col0\" class=\"data row3 col0\" >1</td>\n",
       "      <td id=\"T_e883e_row3_col1\" class=\"data row3 col1\" >1</td>\n",
       "      <td id=\"T_e883e_row3_col2\" class=\"data row3 col2\" >male</td>\n",
       "      <td id=\"T_e883e_row3_col3\" class=\"data row3 col3\" >32.000000</td>\n",
       "      <td id=\"T_e883e_row3_col4\" class=\"data row3 col4\" >0</td>\n",
       "      <td id=\"T_e883e_row3_col5\" class=\"data row3 col5\" >0</td>\n",
       "      <td id=\"T_e883e_row3_col6\" class=\"data row3 col6\" >30.500000</td>\n",
       "      <td id=\"T_e883e_row3_col7\" class=\"data row3 col7\" >C</td>\n",
       "      <td id=\"T_e883e_row3_col8\" class=\"data row3 col8\" >First</td>\n",
       "      <td id=\"T_e883e_row3_col9\" class=\"data row3 col9\" >man</td>\n",
       "      <td id=\"T_e883e_row3_col10\" class=\"data row3 col10\" >True</td>\n",
       "      <td id=\"T_e883e_row3_col11\" class=\"data row3 col11\" >B</td>\n",
       "      <td id=\"T_e883e_row3_col12\" class=\"data row3 col12\" >Cherbourg</td>\n",
       "      <td id=\"T_e883e_row3_col13\" class=\"data row3 col13\" >yes</td>\n",
       "      <td id=\"T_e883e_row3_col14\" class=\"data row3 col14\" >True</td>\n",
       "    </tr>\n",
       "    <tr>\n",
       "      <th id=\"T_e883e_level0_row4\" class=\"row_heading level0 row4\" >633</th>\n",
       "      <td id=\"T_e883e_row4_col0\" class=\"data row4 col0\" >0</td>\n",
       "      <td id=\"T_e883e_row4_col1\" class=\"data row4 col1\" >1</td>\n",
       "      <td id=\"T_e883e_row4_col2\" class=\"data row4 col2\" >male</td>\n",
       "      <td id=\"T_e883e_row4_col3\" class=\"data row4 col3\" >nan</td>\n",
       "      <td id=\"T_e883e_row4_col4\" class=\"data row4 col4\" >0</td>\n",
       "      <td id=\"T_e883e_row4_col5\" class=\"data row4 col5\" >0</td>\n",
       "      <td id=\"T_e883e_row4_col6\" class=\"data row4 col6\" >0.000000</td>\n",
       "      <td id=\"T_e883e_row4_col7\" class=\"data row4 col7\" >S</td>\n",
       "      <td id=\"T_e883e_row4_col8\" class=\"data row4 col8\" >First</td>\n",
       "      <td id=\"T_e883e_row4_col9\" class=\"data row4 col9\" >man</td>\n",
       "      <td id=\"T_e883e_row4_col10\" class=\"data row4 col10\" >True</td>\n",
       "      <td id=\"T_e883e_row4_col11\" class=\"data row4 col11\" >nan</td>\n",
       "      <td id=\"T_e883e_row4_col12\" class=\"data row4 col12\" >Southampton</td>\n",
       "      <td id=\"T_e883e_row4_col13\" class=\"data row4 col13\" >no</td>\n",
       "      <td id=\"T_e883e_row4_col14\" class=\"data row4 col14\" >True</td>\n",
       "    </tr>\n",
       "    <tr>\n",
       "      <th id=\"T_e883e_level0_row5\" class=\"row_heading level0 row5\" >634</th>\n",
       "      <td id=\"T_e883e_row5_col0\" class=\"data row5 col0\" >0</td>\n",
       "      <td id=\"T_e883e_row5_col1\" class=\"data row5 col1\" >3</td>\n",
       "      <td id=\"T_e883e_row5_col2\" class=\"data row5 col2\" >female</td>\n",
       "      <td id=\"T_e883e_row5_col3\" class=\"data row5 col3\" >9.000000</td>\n",
       "      <td id=\"T_e883e_row5_col4\" class=\"data row5 col4\" >3</td>\n",
       "      <td id=\"T_e883e_row5_col5\" class=\"data row5 col5\" >2</td>\n",
       "      <td id=\"T_e883e_row5_col6\" class=\"data row5 col6\" >27.900000</td>\n",
       "      <td id=\"T_e883e_row5_col7\" class=\"data row5 col7\" >S</td>\n",
       "      <td id=\"T_e883e_row5_col8\" class=\"data row5 col8\" >Third</td>\n",
       "      <td id=\"T_e883e_row5_col9\" class=\"data row5 col9\" >child</td>\n",
       "      <td id=\"T_e883e_row5_col10\" class=\"data row5 col10\" >False</td>\n",
       "      <td id=\"T_e883e_row5_col11\" class=\"data row5 col11\" >nan</td>\n",
       "      <td id=\"T_e883e_row5_col12\" class=\"data row5 col12\" >Southampton</td>\n",
       "      <td id=\"T_e883e_row5_col13\" class=\"data row5 col13\" >no</td>\n",
       "      <td id=\"T_e883e_row5_col14\" class=\"data row5 col14\" >False</td>\n",
       "    </tr>\n",
       "  </tbody>\n",
       "</table>\n"
      ],
      "text/plain": [
       "<pandas.io.formats.style.Styler at 0x1d3353ab1c0>"
      ]
     },
     "execution_count": 19,
     "metadata": {},
     "output_type": "execute_result"
    }
   ],
   "source": [
    "# highlight max/min and null values\n",
    "titanic.iloc[629:635].style.highlight_max(color='green', axis=0, subset=['age', 'fare']).highlight_min(\n",
    "    color='red', axis=0, subset=['age', 'fare']\n",
    ").highlight_null('orange')"
   ]
  },
  {
   "cell_type": "code",
   "execution_count": 20,
   "id": "66f8b4f6",
   "metadata": {},
   "outputs": [
    {
     "data": {
      "text/html": [
       "<style type=\"text/css\">\n",
       "#T_6a47f_row0_col3, #T_6a47f_row4_col3 {\n",
       "  background-color: #000000;\n",
       "  color: #f1f1f1;\n",
       "}\n",
       "#T_6a47f_row1_col3 {\n",
       "  background-color: #fde725;\n",
       "  color: #000000;\n",
       "}\n",
       "#T_6a47f_row2_col3 {\n",
       "  background-color: #21a685;\n",
       "  color: #f1f1f1;\n",
       "}\n",
       "#T_6a47f_row3_col3 {\n",
       "  background-color: #32658e;\n",
       "  color: #f1f1f1;\n",
       "}\n",
       "#T_6a47f_row5_col3 {\n",
       "  background-color: #440154;\n",
       "  color: #f1f1f1;\n",
       "}\n",
       "</style>\n",
       "<table id=\"T_6a47f\">\n",
       "  <thead>\n",
       "    <tr>\n",
       "      <th class=\"blank level0\" >&nbsp;</th>\n",
       "      <th id=\"T_6a47f_level0_col0\" class=\"col_heading level0 col0\" >survived</th>\n",
       "      <th id=\"T_6a47f_level0_col1\" class=\"col_heading level0 col1\" >pclass</th>\n",
       "      <th id=\"T_6a47f_level0_col2\" class=\"col_heading level0 col2\" >sex</th>\n",
       "      <th id=\"T_6a47f_level0_col3\" class=\"col_heading level0 col3\" >age</th>\n",
       "      <th id=\"T_6a47f_level0_col4\" class=\"col_heading level0 col4\" >sibsp</th>\n",
       "      <th id=\"T_6a47f_level0_col5\" class=\"col_heading level0 col5\" >parch</th>\n",
       "      <th id=\"T_6a47f_level0_col6\" class=\"col_heading level0 col6\" >fare</th>\n",
       "      <th id=\"T_6a47f_level0_col7\" class=\"col_heading level0 col7\" >embarked</th>\n",
       "      <th id=\"T_6a47f_level0_col8\" class=\"col_heading level0 col8\" >class</th>\n",
       "      <th id=\"T_6a47f_level0_col9\" class=\"col_heading level0 col9\" >who</th>\n",
       "      <th id=\"T_6a47f_level0_col10\" class=\"col_heading level0 col10\" >adult_male</th>\n",
       "      <th id=\"T_6a47f_level0_col11\" class=\"col_heading level0 col11\" >deck</th>\n",
       "      <th id=\"T_6a47f_level0_col12\" class=\"col_heading level0 col12\" >embark_town</th>\n",
       "      <th id=\"T_6a47f_level0_col13\" class=\"col_heading level0 col13\" >alive</th>\n",
       "      <th id=\"T_6a47f_level0_col14\" class=\"col_heading level0 col14\" >alone</th>\n",
       "    </tr>\n",
       "  </thead>\n",
       "  <tbody>\n",
       "    <tr>\n",
       "      <th id=\"T_6a47f_level0_row0\" class=\"row_heading level0 row0\" >629</th>\n",
       "      <td id=\"T_6a47f_row0_col0\" class=\"data row0 col0\" >0</td>\n",
       "      <td id=\"T_6a47f_row0_col1\" class=\"data row0 col1\" >3</td>\n",
       "      <td id=\"T_6a47f_row0_col2\" class=\"data row0 col2\" >male</td>\n",
       "      <td id=\"T_6a47f_row0_col3\" class=\"data row0 col3\" >nan</td>\n",
       "      <td id=\"T_6a47f_row0_col4\" class=\"data row0 col4\" >0</td>\n",
       "      <td id=\"T_6a47f_row0_col5\" class=\"data row0 col5\" >0</td>\n",
       "      <td id=\"T_6a47f_row0_col6\" class=\"data row0 col6\" >7.733300</td>\n",
       "      <td id=\"T_6a47f_row0_col7\" class=\"data row0 col7\" >Q</td>\n",
       "      <td id=\"T_6a47f_row0_col8\" class=\"data row0 col8\" >Third</td>\n",
       "      <td id=\"T_6a47f_row0_col9\" class=\"data row0 col9\" >man</td>\n",
       "      <td id=\"T_6a47f_row0_col10\" class=\"data row0 col10\" >True</td>\n",
       "      <td id=\"T_6a47f_row0_col11\" class=\"data row0 col11\" >nan</td>\n",
       "      <td id=\"T_6a47f_row0_col12\" class=\"data row0 col12\" >Queenstown</td>\n",
       "      <td id=\"T_6a47f_row0_col13\" class=\"data row0 col13\" >no</td>\n",
       "      <td id=\"T_6a47f_row0_col14\" class=\"data row0 col14\" >True</td>\n",
       "    </tr>\n",
       "    <tr>\n",
       "      <th id=\"T_6a47f_level0_row1\" class=\"row_heading level0 row1\" >630</th>\n",
       "      <td id=\"T_6a47f_row1_col0\" class=\"data row1 col0\" >1</td>\n",
       "      <td id=\"T_6a47f_row1_col1\" class=\"data row1 col1\" >1</td>\n",
       "      <td id=\"T_6a47f_row1_col2\" class=\"data row1 col2\" >male</td>\n",
       "      <td id=\"T_6a47f_row1_col3\" class=\"data row1 col3\" >80.000000</td>\n",
       "      <td id=\"T_6a47f_row1_col4\" class=\"data row1 col4\" >0</td>\n",
       "      <td id=\"T_6a47f_row1_col5\" class=\"data row1 col5\" >0</td>\n",
       "      <td id=\"T_6a47f_row1_col6\" class=\"data row1 col6\" >30.000000</td>\n",
       "      <td id=\"T_6a47f_row1_col7\" class=\"data row1 col7\" >S</td>\n",
       "      <td id=\"T_6a47f_row1_col8\" class=\"data row1 col8\" >First</td>\n",
       "      <td id=\"T_6a47f_row1_col9\" class=\"data row1 col9\" >man</td>\n",
       "      <td id=\"T_6a47f_row1_col10\" class=\"data row1 col10\" >True</td>\n",
       "      <td id=\"T_6a47f_row1_col11\" class=\"data row1 col11\" >A</td>\n",
       "      <td id=\"T_6a47f_row1_col12\" class=\"data row1 col12\" >Southampton</td>\n",
       "      <td id=\"T_6a47f_row1_col13\" class=\"data row1 col13\" >yes</td>\n",
       "      <td id=\"T_6a47f_row1_col14\" class=\"data row1 col14\" >True</td>\n",
       "    </tr>\n",
       "    <tr>\n",
       "      <th id=\"T_6a47f_level0_row2\" class=\"row_heading level0 row2\" >631</th>\n",
       "      <td id=\"T_6a47f_row2_col0\" class=\"data row2 col0\" >0</td>\n",
       "      <td id=\"T_6a47f_row2_col1\" class=\"data row2 col1\" >3</td>\n",
       "      <td id=\"T_6a47f_row2_col2\" class=\"data row2 col2\" >male</td>\n",
       "      <td id=\"T_6a47f_row2_col3\" class=\"data row2 col3\" >51.000000</td>\n",
       "      <td id=\"T_6a47f_row2_col4\" class=\"data row2 col4\" >0</td>\n",
       "      <td id=\"T_6a47f_row2_col5\" class=\"data row2 col5\" >0</td>\n",
       "      <td id=\"T_6a47f_row2_col6\" class=\"data row2 col6\" >7.054200</td>\n",
       "      <td id=\"T_6a47f_row2_col7\" class=\"data row2 col7\" >S</td>\n",
       "      <td id=\"T_6a47f_row2_col8\" class=\"data row2 col8\" >Third</td>\n",
       "      <td id=\"T_6a47f_row2_col9\" class=\"data row2 col9\" >man</td>\n",
       "      <td id=\"T_6a47f_row2_col10\" class=\"data row2 col10\" >True</td>\n",
       "      <td id=\"T_6a47f_row2_col11\" class=\"data row2 col11\" >nan</td>\n",
       "      <td id=\"T_6a47f_row2_col12\" class=\"data row2 col12\" >Southampton</td>\n",
       "      <td id=\"T_6a47f_row2_col13\" class=\"data row2 col13\" >no</td>\n",
       "      <td id=\"T_6a47f_row2_col14\" class=\"data row2 col14\" >True</td>\n",
       "    </tr>\n",
       "    <tr>\n",
       "      <th id=\"T_6a47f_level0_row3\" class=\"row_heading level0 row3\" >632</th>\n",
       "      <td id=\"T_6a47f_row3_col0\" class=\"data row3 col0\" >1</td>\n",
       "      <td id=\"T_6a47f_row3_col1\" class=\"data row3 col1\" >1</td>\n",
       "      <td id=\"T_6a47f_row3_col2\" class=\"data row3 col2\" >male</td>\n",
       "      <td id=\"T_6a47f_row3_col3\" class=\"data row3 col3\" >32.000000</td>\n",
       "      <td id=\"T_6a47f_row3_col4\" class=\"data row3 col4\" >0</td>\n",
       "      <td id=\"T_6a47f_row3_col5\" class=\"data row3 col5\" >0</td>\n",
       "      <td id=\"T_6a47f_row3_col6\" class=\"data row3 col6\" >30.500000</td>\n",
       "      <td id=\"T_6a47f_row3_col7\" class=\"data row3 col7\" >C</td>\n",
       "      <td id=\"T_6a47f_row3_col8\" class=\"data row3 col8\" >First</td>\n",
       "      <td id=\"T_6a47f_row3_col9\" class=\"data row3 col9\" >man</td>\n",
       "      <td id=\"T_6a47f_row3_col10\" class=\"data row3 col10\" >True</td>\n",
       "      <td id=\"T_6a47f_row3_col11\" class=\"data row3 col11\" >B</td>\n",
       "      <td id=\"T_6a47f_row3_col12\" class=\"data row3 col12\" >Cherbourg</td>\n",
       "      <td id=\"T_6a47f_row3_col13\" class=\"data row3 col13\" >yes</td>\n",
       "      <td id=\"T_6a47f_row3_col14\" class=\"data row3 col14\" >True</td>\n",
       "    </tr>\n",
       "    <tr>\n",
       "      <th id=\"T_6a47f_level0_row4\" class=\"row_heading level0 row4\" >633</th>\n",
       "      <td id=\"T_6a47f_row4_col0\" class=\"data row4 col0\" >0</td>\n",
       "      <td id=\"T_6a47f_row4_col1\" class=\"data row4 col1\" >1</td>\n",
       "      <td id=\"T_6a47f_row4_col2\" class=\"data row4 col2\" >male</td>\n",
       "      <td id=\"T_6a47f_row4_col3\" class=\"data row4 col3\" >nan</td>\n",
       "      <td id=\"T_6a47f_row4_col4\" class=\"data row4 col4\" >0</td>\n",
       "      <td id=\"T_6a47f_row4_col5\" class=\"data row4 col5\" >0</td>\n",
       "      <td id=\"T_6a47f_row4_col6\" class=\"data row4 col6\" >0.000000</td>\n",
       "      <td id=\"T_6a47f_row4_col7\" class=\"data row4 col7\" >S</td>\n",
       "      <td id=\"T_6a47f_row4_col8\" class=\"data row4 col8\" >First</td>\n",
       "      <td id=\"T_6a47f_row4_col9\" class=\"data row4 col9\" >man</td>\n",
       "      <td id=\"T_6a47f_row4_col10\" class=\"data row4 col10\" >True</td>\n",
       "      <td id=\"T_6a47f_row4_col11\" class=\"data row4 col11\" >nan</td>\n",
       "      <td id=\"T_6a47f_row4_col12\" class=\"data row4 col12\" >Southampton</td>\n",
       "      <td id=\"T_6a47f_row4_col13\" class=\"data row4 col13\" >no</td>\n",
       "      <td id=\"T_6a47f_row4_col14\" class=\"data row4 col14\" >True</td>\n",
       "    </tr>\n",
       "    <tr>\n",
       "      <th id=\"T_6a47f_level0_row5\" class=\"row_heading level0 row5\" >634</th>\n",
       "      <td id=\"T_6a47f_row5_col0\" class=\"data row5 col0\" >0</td>\n",
       "      <td id=\"T_6a47f_row5_col1\" class=\"data row5 col1\" >3</td>\n",
       "      <td id=\"T_6a47f_row5_col2\" class=\"data row5 col2\" >female</td>\n",
       "      <td id=\"T_6a47f_row5_col3\" class=\"data row5 col3\" >9.000000</td>\n",
       "      <td id=\"T_6a47f_row5_col4\" class=\"data row5 col4\" >3</td>\n",
       "      <td id=\"T_6a47f_row5_col5\" class=\"data row5 col5\" >2</td>\n",
       "      <td id=\"T_6a47f_row5_col6\" class=\"data row5 col6\" >27.900000</td>\n",
       "      <td id=\"T_6a47f_row5_col7\" class=\"data row5 col7\" >S</td>\n",
       "      <td id=\"T_6a47f_row5_col8\" class=\"data row5 col8\" >Third</td>\n",
       "      <td id=\"T_6a47f_row5_col9\" class=\"data row5 col9\" >child</td>\n",
       "      <td id=\"T_6a47f_row5_col10\" class=\"data row5 col10\" >False</td>\n",
       "      <td id=\"T_6a47f_row5_col11\" class=\"data row5 col11\" >nan</td>\n",
       "      <td id=\"T_6a47f_row5_col12\" class=\"data row5 col12\" >Southampton</td>\n",
       "      <td id=\"T_6a47f_row5_col13\" class=\"data row5 col13\" >no</td>\n",
       "      <td id=\"T_6a47f_row5_col14\" class=\"data row5 col14\" >False</td>\n",
       "    </tr>\n",
       "  </tbody>\n",
       "</table>\n"
      ],
      "text/plain": [
       "<pandas.io.formats.style.Styler at 0x1d3353aa440>"
      ]
     },
     "execution_count": 20,
     "metadata": {},
     "output_type": "execute_result"
    }
   ],
   "source": [
    "# Applying colormaps\n",
    "titanic.iloc[629:635].style.background_gradient(cmap='viridis', subset=['age'])"
   ]
  },
  {
   "cell_type": "code",
   "execution_count": 27,
   "id": "51cefef6",
   "metadata": {},
   "outputs": [
    {
     "name": "stderr",
     "output_type": "stream",
     "text": [
      "C:\\Users\\USER\\AppData\\Local\\Temp\\ipykernel_12816\\1669650671.py:19: FutureWarning: Styler.applymap has been deprecated. Use Styler.map instead.\n",
      "  corr_matrix.style.applymap(highlight_corr)\n"
     ]
    },
    {
     "data": {
      "text/html": [
       "<style type=\"text/css\">\n",
       "#T_5802d_row0_col1, #T_5802d_row1_col0 {\n",
       "  background-color: green;\n",
       "  text-decoration: underline;\n",
       "}\n",
       "</style>\n",
       "<table id=\"T_5802d\">\n",
       "  <thead>\n",
       "    <tr>\n",
       "      <th class=\"blank level0\" >&nbsp;</th>\n",
       "      <th id=\"T_5802d_level0_col0\" class=\"col_heading level0 col0\" >age</th>\n",
       "      <th id=\"T_5802d_level0_col1\" class=\"col_heading level0 col1\" >salary</th>\n",
       "    </tr>\n",
       "  </thead>\n",
       "  <tbody>\n",
       "    <tr>\n",
       "      <th id=\"T_5802d_level0_row0\" class=\"row_heading level0 row0\" >age</th>\n",
       "      <td id=\"T_5802d_row0_col0\" class=\"data row0 col0\" >1.000000</td>\n",
       "      <td id=\"T_5802d_row0_col1\" class=\"data row0 col1\" >0.982839</td>\n",
       "    </tr>\n",
       "    <tr>\n",
       "      <th id=\"T_5802d_level0_row1\" class=\"row_heading level0 row1\" >salary</th>\n",
       "      <td id=\"T_5802d_row1_col0\" class=\"data row1 col0\" >0.982839</td>\n",
       "      <td id=\"T_5802d_row1_col1\" class=\"data row1 col1\" >1.000000</td>\n",
       "    </tr>\n",
       "  </tbody>\n",
       "</table>\n"
      ],
      "text/plain": [
       "<pandas.io.formats.style.Styler at 0x1d337576770>"
      ]
     },
     "execution_count": 27,
     "metadata": {},
     "output_type": "execute_result"
    }
   ],
   "source": [
    "# Highlight correlated columns\n",
    "# df.style.apply() or df.style.applymap() for custom formatting\n",
    "\n",
    "data = {\n",
    "    'age' : [20, 45, 50],\n",
    "    'salary': [60000, 120000, 118000]\n",
    "}\n",
    "\n",
    "df = pd.DataFrame(data)\n",
    "\n",
    "corr_matrix = df.corr()\n",
    "\n",
    "def highlight_corr(val):\n",
    "    if val != 1.0 and abs(val) > 0.5: # not counting self correlation\n",
    "        return 'background-color: green; text-decoration: underline'\n",
    "    else:\n",
    "        return ''\n",
    "    \n",
    "corr_matrix.style.applymap(highlight_corr)"
   ]
  },
  {
   "cell_type": "code",
   "execution_count": null,
   "id": "77bbfa19",
   "metadata": {},
   "outputs": [],
   "source": []
  },
  {
   "cell_type": "markdown",
   "id": "5639711a",
   "metadata": {},
   "source": [
    "### Marshmallow\n",
    "\n",
    "Data serialization & Validation\n",
    "\n",
    "[Tutorial](https://www.kdnuggets.com/marshmallow-the-sweetest-python-library-for-data-serialization-and-validation)"
   ]
  },
  {
   "cell_type": "code",
   "execution_count": null,
   "id": "3866b942",
   "metadata": {},
   "outputs": [],
   "source": []
  }
 ],
 "metadata": {
  "kernelspec": {
   "display_name": "Python 3.9.12 ('ml39')",
   "language": "python",
   "name": "python3"
  },
  "language_info": {
   "codemirror_mode": {
    "name": "ipython",
    "version": 3
   },
   "file_extension": ".py",
   "mimetype": "text/x-python",
   "name": "python",
   "nbconvert_exporter": "python",
   "pygments_lexer": "ipython3",
   "version": "3.10.13"
  },
  "vscode": {
   "interpreter": {
    "hash": "9a9823123dce4654294f13888679f8f2891e3316c150b89d10b977c182808e4e"
   }
  }
 },
 "nbformat": 4,
 "nbformat_minor": 5
}
