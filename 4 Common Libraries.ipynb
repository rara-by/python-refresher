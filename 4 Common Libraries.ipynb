{
 "cells": [
  {
   "cell_type": "markdown",
   "id": "4abe7288",
   "metadata": {},
   "source": [
    "A module is a file ending with _.py_ located in the same directory. Importing them allows you to access the functions and variables in that file."
   ]
  },
  {
   "cell_type": "markdown",
   "id": "50368640",
   "metadata": {},
   "source": [
    "### Datetime"
   ]
  },
  {
   "cell_type": "code",
   "execution_count": 1,
   "id": "6026b96b",
   "metadata": {},
   "outputs": [
    {
     "name": "stdout",
     "output_type": "stream",
     "text": [
      "Day  9\n",
      "Hour 11\n",
      "Date 2021-12-09\n"
     ]
    }
   ],
   "source": [
    "from datetime import datetime, date, time\n",
    "\n",
    "dt = datetime(2021, 12, 9, 11, 43, 23)\n",
    "print(\"Day \", dt.day)\n",
    "print(\"Hour\", dt.hour)\n",
    "print(\"Date\", dt.date())"
   ]
  },
  {
   "cell_type": "code",
   "execution_count": 4,
   "id": "528d7253",
   "metadata": {},
   "outputs": [
    {
     "name": "stdout",
     "output_type": "stream",
     "text": [
      "2021-12-09 11:43:23\n"
     ]
    },
    {
     "data": {
      "text/plain": [
       "datetime.datetime(2021, 12, 9, 11, 43, 23)"
      ]
     },
     "execution_count": 4,
     "metadata": {},
     "output_type": "execute_result"
    }
   ],
   "source": [
    "print(dt)\n",
    "dt"
   ]
  },
  {
   "cell_type": "code",
   "execution_count": 5,
   "id": "b3c25789",
   "metadata": {},
   "outputs": [
    {
     "data": {
      "text/plain": [
       "'12/09/2021 11:43'"
      ]
     },
     "execution_count": 5,
     "metadata": {},
     "output_type": "execute_result"
    }
   ],
   "source": [
    "#format a datetime as a string\n",
    "dt.strftime('%m/%d/%Y %H:%M') \n",
    "\n",
    "# %Y indicates 4 digit year and %y indicates 2 digit year\n",
    "# %H indicates 24 hr clock, %I indicates 12 hr clock"
   ]
  },
  {
   "cell_type": "code",
   "execution_count": 6,
   "id": "30ff9106",
   "metadata": {},
   "outputs": [
    {
     "data": {
      "text/plain": [
       "datetime.datetime(2021, 10, 10, 0, 0)"
      ]
     },
     "execution_count": 6,
     "metadata": {},
     "output_type": "execute_result"
    }
   ],
   "source": [
    "#parse string into datetime object\n",
    "datetime.strptime('20211010', '%Y%m%d')"
   ]
  },
  {
   "cell_type": "code",
   "execution_count": 7,
   "id": "d405503b",
   "metadata": {},
   "outputs": [
    {
     "data": {
      "text/plain": [
       "datetime.datetime(2021, 12, 9, 11, 33, 23)"
      ]
     },
     "execution_count": 7,
     "metadata": {},
     "output_type": "execute_result"
    }
   ],
   "source": [
    "dt.replace(minute=33)\n",
    "\n",
    "#datetime creates an immutable object.A new object is produced by this method"
   ]
  },
  {
   "cell_type": "code",
   "execution_count": 8,
   "id": "62c06e86",
   "metadata": {},
   "outputs": [
    {
     "data": {
      "text/plain": [
       "datetime.datetime(2021, 12, 9, 11, 43, 23)"
      ]
     },
     "execution_count": 8,
     "metadata": {},
     "output_type": "execute_result"
    }
   ],
   "source": [
    "dt # remains unchanged"
   ]
  },
  {
   "cell_type": "code",
   "execution_count": 9,
   "id": "c088b7cb",
   "metadata": {},
   "outputs": [
    {
     "data": {
      "text/plain": [
       "datetime.timedelta(seconds=600)"
      ]
     },
     "execution_count": 9,
     "metadata": {},
     "output_type": "execute_result"
    }
   ],
   "source": [
    "# Time difference\n",
    "\n",
    "dt2 = dt.replace(minute=33)\n",
    "delta = dt - dt2 \n",
    "delta #the offset, datetime.timedelta type"
   ]
  },
  {
   "cell_type": "markdown",
   "id": "ecc33616",
   "metadata": {},
   "source": [
    "### CSV"
   ]
  },
  {
   "cell_type": "code",
   "execution_count": 7,
   "id": "be7d6d3e",
   "metadata": {},
   "outputs": [
    {
     "data": {
      "text/plain": [
       "[{'age': '19',\n",
       "  'sex': 'female',\n",
       "  'bmi': '27.9',\n",
       "  'children': '0',\n",
       "  'smoker': 'yes',\n",
       "  'region': 'southwest',\n",
       "  'charges': '16884.924'},\n",
       " {'age': '18',\n",
       "  'sex': 'male',\n",
       "  'bmi': '33.77',\n",
       "  'children': '1',\n",
       "  'smoker': 'no',\n",
       "  'region': 'southeast',\n",
       "  'charges': '1725.5523'}]"
      ]
     },
     "execution_count": 7,
     "metadata": {},
     "output_type": "execute_result"
    }
   ],
   "source": [
    "# We are going to be using a lot of CSV files\n",
    "# though we will use Pandas mainly, it is handy to learn to use the csv module\n",
    "import csv \n",
    "\n",
    "# magic command to maintain floating point precision up to two decimals\n",
    "%precision 2 \n",
    "\n",
    "with open('insurance.csv') as csvfile:\n",
    "    my_csv = list(csv.DictReader(csvfile))\n",
    "\n",
    "my_csv[:2]"
   ]
  },
  {
   "cell_type": "code",
   "execution_count": 9,
   "id": "ced96a38",
   "metadata": {},
   "outputs": [
    {
     "name": "stdout",
     "output_type": "stream",
     "text": [
      "Number of rows in my csv file:  1338\n",
      "Keys in the dict read from the csv file:\n"
     ]
    },
    {
     "data": {
      "text/plain": [
       "dict_keys(['age', 'sex', 'bmi', 'children', 'smoker', 'region', 'charges'])"
      ]
     },
     "execution_count": 9,
     "metadata": {},
     "output_type": "execute_result"
    }
   ],
   "source": [
    "print(\"Number of rows in my csv file: \", len(my_csv))\n",
    "\n",
    "print(\"Keys in the dict read from the csv file:\")\n",
    "my_csv[0].keys()"
   ]
  },
  {
   "cell_type": "code",
   "execution_count": 10,
   "id": "427fa209",
   "metadata": {},
   "outputs": [
    {
     "data": {
      "text/plain": [
       "{'northeast', 'northwest', 'southeast', 'southwest'}"
      ]
     },
     "execution_count": 10,
     "metadata": {},
     "output_type": "execute_result"
    }
   ],
   "source": [
    "# Let's find the unique regions in this dataset \n",
    "# A set only contains unique values\n",
    "region_set = set(reg['region'] for reg in my_csv)\n",
    "region_set"
   ]
  },
  {
   "cell_type": "markdown",
   "id": "5de3e67e",
   "metadata": {},
   "source": [
    "### Numpy\n",
    "For fast processing of data in the form of arrays (lists/lists of lists)"
   ]
  },
  {
   "cell_type": "code",
   "execution_count": 5,
   "id": "2bb88915",
   "metadata": {},
   "outputs": [
    {
     "name": "stdout",
     "output_type": "stream",
     "text": [
      "The array\n",
      " [[1 2]\n",
      " [7 8]]\n",
      "Its dimensions 2\n",
      "Its shape (2, 2)\n"
     ]
    }
   ],
   "source": [
    "import numpy as np \n",
    "\n",
    "np_array = np.array(([1, 2], [7, 8]))\n",
    "print(\"The array\\n\", np_array)\n",
    "print(\"Its dimensions\", np_array.ndim)\n",
    "print(\"Its shape\", np_array.shape)"
   ]
  },
  {
   "cell_type": "code",
   "execution_count": 15,
   "id": "d0b7bc00",
   "metadata": {},
   "outputs": [
    {
     "name": "stdout",
     "output_type": "stream",
     "text": [
      "[0. 0. 0. 0.]\n",
      "[[1. 1. 1.]\n",
      " [1. 1. 1.]]\n",
      "[[0.72 0.05 0.11 0.28]\n",
      " [0.09 0.58 0.42 0.57]\n",
      " [0.   0.09 0.13 0.47]\n",
      " [0.95 0.57 0.44 0.44]]\n",
      "[[ True False False False]\n",
      " [False  True  True  True]\n",
      " [False False False  True]\n",
      " [ True  True  True  True]]\n",
      "[[[0.72 0.05 0.11 0.28]\n",
      "  [0.09 0.58 0.42 0.57]]\n",
      "\n",
      " [[0.   0.09 0.13 0.47]\n",
      "  [0.95 0.57 0.44 0.44]]]\n"
     ]
    }
   ],
   "source": [
    "# some common numpy methods\n",
    "# notice the argument formats\n",
    "%precision 2\n",
    "\n",
    "zeros_arr = np.zeros(4)\n",
    "print(zeros_arr)\n",
    "ones_arr = np.ones((2, 3))\n",
    "print(ones_arr)\n",
    "rand_arr = np.random.rand(4, 4)\n",
    "print(rand_arr)\n",
    "\n",
    "# let's print a boolean array to pass some condition\n",
    "print(rand_arr > 0.3)\n",
    "\n",
    "# another common method is for reshaping an array\n",
    "reshaped_rand_arr = rand_arr.reshape(2, 2, 4) # pass the desired dimensions\n",
    "print(reshaped_rand_arr)"
   ]
  },
  {
   "cell_type": "code",
   "execution_count": 19,
   "id": "a1b2f37a",
   "metadata": {},
   "outputs": [
    {
     "name": "stdout",
     "output_type": "stream",
     "text": [
      "Array 1\n",
      " [[2. 2.]\n",
      " [2. 2.]]\n",
      "Array 2\n",
      " [[3. 3.]\n",
      " [3. 3.]]\n",
      "Dot multiplication:\n",
      " [[12. 12.]\n",
      " [12. 12.]]\n",
      "Elementwise multiplication:\n",
      " [[6. 6.]\n",
      " [6. 6.]]\n"
     ]
    }
   ],
   "source": [
    "# a tiny thing to remember when it comes to array multiplications\n",
    "array1 = np.ones((2, 2)) * 2\n",
    "array2 = np.ones((2, 2)) * 3\n",
    "print(\"Array 1\\n\", array1)\n",
    "print(\"Array 2\\n\", array2)\n",
    "\n",
    "print(\"Dot multiplication:\\n\", np.dot(array1, array2))\n",
    "print(\"Elementwise multiplication:\\n\", array1*array2) \n",
    "# another way to perform element-wise miltiplication is \n",
    "# np.multiply(array1, array2)"
   ]
  },
  {
   "cell_type": "code",
   "execution_count": 32,
   "id": "6c9b1759",
   "metadata": {},
   "outputs": [
    {
     "name": "stdout",
     "output_type": "stream",
     "text": [
      "Array 3\n",
      " [[1 1]\n",
      " [2 2]\n",
      " [3 3]]\n"
     ]
    },
    {
     "data": {
      "text/plain": [
       "array([[1],\n",
       "       [2]])"
      ]
     },
     "execution_count": 32,
     "metadata": {},
     "output_type": "execute_result"
    }
   ],
   "source": [
    "# slicing an array is much like that of a list\n",
    "array3 = np.array((([1, 1], [2, 2], [3, 3])))\n",
    "print(\"Array 3\\n\", array3)\n",
    "array3[:2, :1] # if thise slice is modified the original array will be changed too, as it's a reference"
   ]
  }
 ],
 "metadata": {
  "kernelspec": {
   "display_name": "Python 3.9.12 ('ml39')",
   "language": "python",
   "name": "python3"
  },
  "language_info": {
   "codemirror_mode": {
    "name": "ipython",
    "version": 3
   },
   "file_extension": ".py",
   "mimetype": "text/x-python",
   "name": "python",
   "nbconvert_exporter": "python",
   "pygments_lexer": "ipython3",
   "version": "3.9.12"
  },
  "vscode": {
   "interpreter": {
    "hash": "9a9823123dce4654294f13888679f8f2891e3316c150b89d10b977c182808e4e"
   }
  }
 },
 "nbformat": 4,
 "nbformat_minor": 5
}
