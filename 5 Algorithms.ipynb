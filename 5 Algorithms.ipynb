{
 "cells": [
  {
   "cell_type": "markdown",
   "metadata": {},
   "source": [
    "\n",
    "## Algorithms\n",
    "A set of distinct instructions/steps in a particular order a program takes to finish a task. An algorithm should produce an output and must not take infinite time to produce result. You have to understand when to apply an algorithm – algorithmic thinking. A clearly defined problem, input and output. \n",
    "\n",
    "-\tClear understanding of the problem is necessary and a part of it is defining boundaries i.e. what counts as an input.  And an output. So clearly define it and break it down to smaller problems.\n",
    "-\tThere is no one best solution. Algorithmic thinking helps figuring out what to use when. \n",
    "-\t**Correctness:** algorithm deemed correct if every input terminates in the end and gives the same output. \n",
    "-\t**Efficiency:** time and space. *Time complexity* is how long it takes to run. *Space complexity* – amount of memory. A good algorithm balances these concepts. "
   ]
  },
  {
   "cell_type": "markdown",
   "metadata": {},
   "source": [
    "#### Time Complexity\n",
    "- measure worst scenario for efficiency\n",
    "- Order of Growth/Order of Magnitude Complexity (big O notation) tells us about the algorithm's performance as the input size grows. It's a function of size"
   ]
  },
  {
   "cell_type": "markdown",
   "metadata": {},
   "source": [
    "#### Linear Search\n",
    "Simple sequential search. Sorting not necessary.\n",
    "\n",
    "You start at the beginning of the list --> compare one item at a time (sequential) --> A series of values as input --> one value that matches our target or reach end\n",
    "- O(n) time complexity"
   ]
  },
  {
   "cell_type": "markdown",
   "metadata": {},
   "source": [
    "#### Binary Search\n",
    "- input: sorted sequence \n",
    "- output: target position\n",
    "- go to the middle position and compare with target (is it target? No - is it higher or lower?)\n",
    "- O(log n) time complexity"
   ]
  },
  {
   "cell_type": "markdown",
   "metadata": {},
   "source": [
    "### Depth First Search"
   ]
  },
  {
   "cell_type": "markdown",
   "metadata": {},
   "source": [
    "#### Use\n",
    "Optimization for criteria, pathfinding, scheduling, data serialization etc.\n",
    "\n",
    "It's guaranteed to find a path but not necessarily the shortest path.\n",
    "\n",
    "#### Data Structures\n",
    "- Stack for the start position\n",
    "- Dictionary {child: parent}\n",
    "\n"
   ]
  },
  {
   "cell_type": "code",
   "execution_count": null,
   "metadata": {},
   "outputs": [],
   "source": [
    "'''\n",
    "pop the stack -> is this the goal -> if yes, done; \n",
    "if no, push undiscovered children to predecessors {child: parent} -> repeat until stack empty\n",
    "\n",
    "positions are tuples\n",
    "'''\n",
    "\n"
   ]
  },
  {
   "cell_type": "markdown",
   "metadata": {},
   "source": [
    "### Breadth First Search"
   ]
  },
  {
   "cell_type": "markdown",
   "metadata": {},
   "source": [
    "Shortest path. Uses a **Queue** data structure.\n",
    "\n",
    "**Use:** GPS, Social Media connections, web crawlers\n",
    "- guarantees the shortest path "
   ]
  },
  {
   "cell_type": "markdown",
   "metadata": {},
   "source": [
    "### A* Algorithm"
   ]
  },
  {
   "cell_type": "markdown",
   "metadata": {},
   "source": [
    "**Use:** GPS/traffic navigation, social networks, video games etc.\n",
    "\n",
    "- **F** (probable optimal value) = **G** (best distance) + **H** (heuristic distance)\n",
    "- Uses a priority queue\n",
    "- Very efficient\n",
    "- guarantees the shortest path (but fewer steps than BFS)"
   ]
  },
  {
   "cell_type": "markdown",
   "metadata": {},
   "source": []
  }
 ],
 "metadata": {
  "kernelspec": {
   "display_name": "env310",
   "language": "python",
   "name": "python3"
  },
  "language_info": {
   "name": "python",
   "version": "3.10.13"
  }
 },
 "nbformat": 4,
 "nbformat_minor": 2
}
