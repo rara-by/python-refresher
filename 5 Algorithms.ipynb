{
 "cells": [
  {
   "cell_type": "markdown",
   "metadata": {},
   "source": [
    "### Depth First Search"
   ]
  },
  {
   "cell_type": "markdown",
   "metadata": {},
   "source": [
    "#### Use\n",
    "Optimization for criteria, pathfinding, scheduling, data serialization etc.\n",
    "\n",
    "It's guaranteed to find a path but not necessarily the shortest path.\n",
    "\n",
    "#### Data Structures\n",
    "- Stack for the start position\n",
    "- Dictionary {child: parent}\n",
    "\n"
   ]
  },
  {
   "cell_type": "code",
   "execution_count": null,
   "metadata": {},
   "outputs": [],
   "source": [
    "'''\n",
    "pop the stack -> is this the goal -> if yes, done; \n",
    "if no, push undiscovered children to predecessors {child: parent} -> repeat until stack empty\n",
    "\n",
    "positions are tuples\n",
    "'''\n",
    "\n"
   ]
  },
  {
   "cell_type": "markdown",
   "metadata": {},
   "source": [
    "### Breadth First Search"
   ]
  },
  {
   "cell_type": "markdown",
   "metadata": {},
   "source": [
    "Shortest path. Uses a **Queue** data structure.\n",
    "\n",
    "**Use:** GPS, Social Media connections, web crawlers\n",
    "- guarantees the shortest path "
   ]
  },
  {
   "cell_type": "markdown",
   "metadata": {},
   "source": [
    "### A* Algorithm"
   ]
  },
  {
   "cell_type": "markdown",
   "metadata": {},
   "source": [
    "**Use:** GPS/traffic navigation, social networks, video games etc.\n",
    "\n",
    "- **F** (probable optimal value) = **G** (best distance) + **H** (heuristic distance)\n",
    "- Uses a priority queue\n",
    "- Very efficient\n",
    "- guarantees the shortest path (but fewer steps than BFS)"
   ]
  },
  {
   "cell_type": "markdown",
   "metadata": {},
   "source": []
  }
 ],
 "metadata": {
  "kernelspec": {
   "display_name": "env310",
   "language": "python",
   "name": "python3"
  },
  "language_info": {
   "name": "python",
   "version": "3.10.13"
  }
 },
 "nbformat": 4,
 "nbformat_minor": 2
}
