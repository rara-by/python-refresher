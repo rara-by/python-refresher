{
 "cells": [
  {
   "cell_type": "markdown",
   "metadata": {},
   "source": [
    "### Class"
   ]
  },
  {
   "cell_type": "code",
   "execution_count": 16,
   "metadata": {},
   "outputs": [],
   "source": [
    "class FootballClub(): # <-- a class is an object\n",
    "    def __init__(self):\n",
    "        self.players = [] # this football club object can have a list of players\n",
    "        self.intro = None\n",
    "\n",
    "    def team(self):\n",
    "        return str(self.players)\n",
    "\n",
    "    def add_player(self, player):\n",
    "        self.players.append(player)\n",
    "\n",
    "    def __str__(self):\n",
    "        return str(self.intro)"
   ]
  },
  {
   "cell_type": "code",
   "execution_count": 29,
   "metadata": {},
   "outputs": [
    {
     "name": "stdout",
     "output_type": "stream",
     "text": [
      "['Kai Havertz']\n",
      "club intro:  The greatest team \n",
      "The world has ever seen\n"
     ]
    }
   ],
   "source": [
    "Arsenal = FootballClub() # creating an instance of the object FootballClub()\n",
    "\n",
    "Arsenal.add_player(\"Kai Havertz\")\n",
    "print(Arsenal.team())\n",
    "Arsenal.intro = \"The greatest team \\nThe world has ever seen\"\n",
    "\n",
    "print(\"club intro: \",  Arsenal)\n"
   ]
  },
  {
   "cell_type": "code",
   "execution_count": null,
   "metadata": {},
   "outputs": [],
   "source": []
  }
 ],
 "metadata": {
  "kernelspec": {
   "display_name": "env310",
   "language": "python",
   "name": "python3"
  },
  "language_info": {
   "codemirror_mode": {
    "name": "ipython",
    "version": 3
   },
   "file_extension": ".py",
   "mimetype": "text/x-python",
   "name": "python",
   "nbconvert_exporter": "python",
   "pygments_lexer": "ipython3",
   "version": "3.10.13"
  }
 },
 "nbformat": 4,
 "nbformat_minor": 2
}
